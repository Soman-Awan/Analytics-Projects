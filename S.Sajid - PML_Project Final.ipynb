{
  "nbformat": 4,
  "nbformat_minor": 0,
  "metadata": {
    "kernelspec": {
      "display_name": "Python 3",
      "language": "python",
      "name": "python3"
    },
    "language_info": {
      "codemirror_mode": {
        "name": "ipython",
        "version": 3
      },
      "file_extension": ".py",
      "mimetype": "text/x-python",
      "name": "python",
      "nbconvert_exporter": "python",
      "pygments_lexer": "ipython3",
      "version": "3.7.6"
    },
    "colab": {
      "name": "PML - Projecct.ipynb",
      "provenance": [],
      "collapsed_sections": [
        "PzBBhUW6cXVa",
        "MPDR8Yn0cXVg",
        "nqCcIHhDcXVk"
      ]
    }
  },
  "cells": [
    {
      "cell_type": "markdown",
      "metadata": {
        "id": "D2OovQky70B4",
        "colab_type": "text"
      },
      "source": [
        "## PRACTICAL MACHINE LEARNING\n",
        "## FINAL PROJECT \n"
      ]
    },
    {
      "cell_type": "markdown",
      "metadata": {
        "id": "5iomPInW76zF",
        "colab_type": "text"
      },
      "source": [
        "## Soman Sajid\n",
        "## Joseph Wilson \n",
        "## Emmanuel Opoku-Asante\n",
        "## Uwais Ghulam Al-Karni"
      ]
    },
    {
      "cell_type": "markdown",
      "metadata": {
        "id": "jLRDq9wvcXRg",
        "colab_type": "text"
      },
      "source": [
        "# TRANSACTIONAL DATA FOR CHURN PREDICTION\n",
        "Our aim of the project is to build a churnout model for customers who are exposed to certain campaigns decide to redeem the offer or not. We aim to see the relation between the two and advise the company which factors to focus on. \n",
        "\n",
        "Our main motivation behind this project to practically apply the acquired skills from the course. \n",
        "The dataset has been taken from Cran R Project, link attached below, it consists of eight separate .csv files. As part of the analysis, we will use the six. \n",
        "\n",
        "The dataset used is a transactional data spanning over two years of purchase transactions of 2500 households. The campaign information and other demographical information of household, which coupon was redeemed are also available. \n",
        "\n",
        "The file dataset are as follows:\n",
        "\n",
        "- Campaign Descriptions (camp_dt.csv)\n",
        "- Campaigns (camp_d.csv)\n",
        "- Coupons (coupon.csv)\n",
        "- Coupon Redemptions (coup-rd.csv)\n",
        "- Transactions (trans_data.csv)\n",
        "- Demographics (demo.csv)\n",
        "\n",
        "https://cran.r-project.org/web/packages/completejourney/vignettes/completejourney.html"
      ]
    },
    {
      "cell_type": "code",
      "metadata": {
        "id": "34hs1AqCcXRl",
        "colab_type": "code",
        "outputId": "d41c4ca6-da83-4501-aab6-c41bdcad8a51",
        "colab": {
          "base_uri": "https://localhost:8080/",
          "height": 52
        }
      },
      "source": [
        "import matplotlib.pyplot as plt\n",
        "import seaborn as sns\n",
        "import pandas as pd\n",
        "import numpy as np\n",
        "sns.set_style(\"darkgrid\")\n",
        "\n",
        "import warnings\n",
        "warnings.filterwarnings(\"ignore\")\n",
        "\n",
        "import os\n",
        "for dirname, _, filenames in os.walk('/kaggle/input'):\n",
        "    for filename in filenames:\n",
        "        print(os.path.join(dirname, filename))"
      ],
      "execution_count": 1,
      "outputs": [
        {
          "output_type": "stream",
          "text": [
            "/usr/local/lib/python3.6/dist-packages/statsmodels/tools/_testing.py:19: FutureWarning: pandas.util.testing is deprecated. Use the functions in the public API at pandas.testing instead.\n",
            "  import pandas.util.testing as tm\n"
          ],
          "name": "stderr"
        }
      ]
    },
    {
      "cell_type": "code",
      "metadata": {
        "id": "9bEsJM9gdhrU",
        "colab_type": "code",
        "colab": {}
      },
      "source": [
        "# Code to read csv file into colaboratory:\n",
        "!pip install -U -q PyDrive\n",
        "from pydrive.auth import GoogleAuth\n",
        "from pydrive.drive import GoogleDrive\n",
        "from google.colab import auth\n",
        "from oauth2client.client import GoogleCredentials\n",
        "\n",
        "#Autheticate E-Mail ID\n",
        "auth.authenticate_user()\n",
        "gauth = GoogleAuth()\n",
        "gauth.credentials = GoogleCredentials.get_application_default()\n",
        "drive = GoogleDrive(gauth)"
      ],
      "execution_count": 0,
      "outputs": []
    },
    {
      "cell_type": "code",
      "metadata": {
        "id": "_L_fEv9NdtHY",
        "colab_type": "code",
        "colab": {}
      },
      "source": [
        "#Reading file from Google Drive\n",
        "downloaded = drive.CreateFile({'id':'1PNJcQWKGddpR-bEQyRIjF0-3M36f7HSb'}) # replace the id with id of file you want to access\n",
        "downloaded.GetContentFile('camp_dt.csv') "
      ],
      "execution_count": 0,
      "outputs": []
    },
    {
      "cell_type": "markdown",
      "metadata": {
        "id": "FH4pRucmfP4b",
        "colab_type": "text"
      },
      "source": [
        "\n",
        "\n",
        "**CAMPAIGN DESCRIPTION**"
      ]
    },
    {
      "cell_type": "code",
      "metadata": {
        "id": "Jkvu1nThei0o",
        "colab_type": "code",
        "colab": {}
      },
      "source": [
        "##CHECK IF DATA IS LOADED\n",
        "dfs = dict()\n",
        "dfs[\"camp_dt\"] = pd.read_csv('camp_dt.csv') "
      ],
      "execution_count": 0,
      "outputs": []
    },
    {
      "cell_type": "code",
      "metadata": {
        "id": "8ZAERG5NcXSB",
        "colab_type": "code",
        "outputId": "2e613303-ef5e-4d68-b310-5e111e87036a",
        "colab": {
          "base_uri": "https://localhost:8080/",
          "height": 212
        }
      },
      "source": [
        "#CHECK IF DATA IS LOADED\n",
        "dfs[\"camp_dt\"].info()"
      ],
      "execution_count": 5,
      "outputs": [
        {
          "output_type": "stream",
          "text": [
            "<class 'pandas.core.frame.DataFrame'>\n",
            "RangeIndex: 27 entries, 0 to 26\n",
            "Data columns (total 4 columns):\n",
            " #   Column         Non-Null Count  Dtype \n",
            "---  ------         --------------  ----- \n",
            " 0   campaign_id    27 non-null     int64 \n",
            " 1   campaign_type  27 non-null     object\n",
            " 2   start_date     27 non-null     object\n",
            " 3   end_date       27 non-null     object\n",
            "dtypes: int64(1), object(3)\n",
            "memory usage: 992.0+ bytes\n"
          ],
          "name": "stdout"
        }
      ]
    },
    {
      "cell_type": "code",
      "metadata": {
        "id": "wWmXL0wJcXSK",
        "colab_type": "code",
        "outputId": "d01d862e-bcc6-4fe7-d7ea-7fcf1842ed3f",
        "colab": {
          "base_uri": "https://localhost:8080/",
          "height": 197
        }
      },
      "source": [
        "#CHECKING DATA IN TABULATED FORM\n",
        "dfs[\"camp_dt\"].head()\n"
      ],
      "execution_count": 6,
      "outputs": [
        {
          "output_type": "execute_result",
          "data": {
            "text/html": [
              "<div>\n",
              "<style scoped>\n",
              "    .dataframe tbody tr th:only-of-type {\n",
              "        vertical-align: middle;\n",
              "    }\n",
              "\n",
              "    .dataframe tbody tr th {\n",
              "        vertical-align: top;\n",
              "    }\n",
              "\n",
              "    .dataframe thead th {\n",
              "        text-align: right;\n",
              "    }\n",
              "</style>\n",
              "<table border=\"1\" class=\"dataframe\">\n",
              "  <thead>\n",
              "    <tr style=\"text-align: right;\">\n",
              "      <th></th>\n",
              "      <th>campaign_id</th>\n",
              "      <th>campaign_type</th>\n",
              "      <th>start_date</th>\n",
              "      <th>end_date</th>\n",
              "    </tr>\n",
              "  </thead>\n",
              "  <tbody>\n",
              "    <tr>\n",
              "      <th>0</th>\n",
              "      <td>1</td>\n",
              "      <td>Type B</td>\n",
              "      <td>3/3/2017</td>\n",
              "      <td>4/9/2017</td>\n",
              "    </tr>\n",
              "    <tr>\n",
              "      <th>1</th>\n",
              "      <td>2</td>\n",
              "      <td>Type B</td>\n",
              "      <td>3/8/2017</td>\n",
              "      <td>4/9/2017</td>\n",
              "    </tr>\n",
              "    <tr>\n",
              "      <th>2</th>\n",
              "      <td>3</td>\n",
              "      <td>Type C</td>\n",
              "      <td>3/13/2017</td>\n",
              "      <td>5/8/2017</td>\n",
              "    </tr>\n",
              "    <tr>\n",
              "      <th>3</th>\n",
              "      <td>4</td>\n",
              "      <td>Type B</td>\n",
              "      <td>3/29/2017</td>\n",
              "      <td>4/30/2017</td>\n",
              "    </tr>\n",
              "    <tr>\n",
              "      <th>4</th>\n",
              "      <td>5</td>\n",
              "      <td>Type B</td>\n",
              "      <td>4/3/2017</td>\n",
              "      <td>5/7/2017</td>\n",
              "    </tr>\n",
              "  </tbody>\n",
              "</table>\n",
              "</div>"
            ],
            "text/plain": [
              "   campaign_id campaign_type start_date   end_date\n",
              "0            1        Type B   3/3/2017   4/9/2017\n",
              "1            2        Type B   3/8/2017   4/9/2017\n",
              "2            3        Type C  3/13/2017   5/8/2017\n",
              "3            4        Type B  3/29/2017  4/30/2017\n",
              "4            5        Type B   4/3/2017   5/7/2017"
            ]
          },
          "metadata": {
            "tags": []
          },
          "execution_count": 6
        }
      ]
    },
    {
      "cell_type": "code",
      "metadata": {
        "id": "gSEXhQ1hcXSS",
        "colab_type": "code",
        "colab": {}
      },
      "source": [
        "#CHANGING DATA TYPE FOR START AND END DATE\n",
        "dfs[\"camp_dt\"][\"end_date\"] = pd.to_datetime(dfs[\"camp_dt\"][\"end_date\"],\n",
        "                                format=\"%m/%d/%Y\", errors='raise')\n",
        "dfs[\"camp_dt\"][\"start_date\"] = pd.to_datetime(dfs[\"camp_dt\"][\"start_date\"],\n",
        "                                format=\"%m/%d/%Y\", errors='raise')"
      ],
      "execution_count": 0,
      "outputs": []
    },
    {
      "cell_type": "code",
      "metadata": {
        "id": "vW-zEpQPcXSa",
        "colab_type": "code",
        "outputId": "20c728a2-a82f-4d80-af7e-c3fa14aeb683",
        "colab": {
          "base_uri": "https://localhost:8080/",
          "height": 212
        }
      },
      "source": [
        "#CHECKING IF DATA TYPE IS CHANGED\n",
        "dfs[\"camp_dt\"].info()"
      ],
      "execution_count": 8,
      "outputs": [
        {
          "output_type": "stream",
          "text": [
            "<class 'pandas.core.frame.DataFrame'>\n",
            "RangeIndex: 27 entries, 0 to 26\n",
            "Data columns (total 4 columns):\n",
            " #   Column         Non-Null Count  Dtype         \n",
            "---  ------         --------------  -----         \n",
            " 0   campaign_id    27 non-null     int64         \n",
            " 1   campaign_type  27 non-null     object        \n",
            " 2   start_date     27 non-null     datetime64[ns]\n",
            " 3   end_date       27 non-null     datetime64[ns]\n",
            "dtypes: datetime64[ns](2), int64(1), object(1)\n",
            "memory usage: 992.0+ bytes\n"
          ],
          "name": "stdout"
        }
      ]
    },
    {
      "cell_type": "code",
      "metadata": {
        "id": "t9fxJiTCcXSf",
        "colab_type": "code",
        "colab": {}
      },
      "source": [
        "#CREATING A NEW FEATURE CAMPAIGN DURATION - IN ORDER TO CHECK WHICH CAMPAIGN WAS EXPOSED MORE\n",
        "dfs[\"camp_dt\"][\"DUR\"] = dfs[\"camp_dt\"].end_date-dfs[\"camp_dt\"].start_date"
      ],
      "execution_count": 0,
      "outputs": []
    },
    {
      "cell_type": "code",
      "metadata": {
        "id": "tiE6EdX7cXSo",
        "colab_type": "code",
        "outputId": "71962792-5d23-45c7-e8e3-0b6790fc5a7e",
        "colab": {
          "base_uri": "https://localhost:8080/",
          "height": 197
        }
      },
      "source": [
        "#CHECKING THE NEW VARIABLE - IF ADDED\n",
        "dfs[\"camp_dt\"].head()"
      ],
      "execution_count": 10,
      "outputs": [
        {
          "output_type": "execute_result",
          "data": {
            "text/html": [
              "<div>\n",
              "<style scoped>\n",
              "    .dataframe tbody tr th:only-of-type {\n",
              "        vertical-align: middle;\n",
              "    }\n",
              "\n",
              "    .dataframe tbody tr th {\n",
              "        vertical-align: top;\n",
              "    }\n",
              "\n",
              "    .dataframe thead th {\n",
              "        text-align: right;\n",
              "    }\n",
              "</style>\n",
              "<table border=\"1\" class=\"dataframe\">\n",
              "  <thead>\n",
              "    <tr style=\"text-align: right;\">\n",
              "      <th></th>\n",
              "      <th>campaign_id</th>\n",
              "      <th>campaign_type</th>\n",
              "      <th>start_date</th>\n",
              "      <th>end_date</th>\n",
              "      <th>DUR</th>\n",
              "    </tr>\n",
              "  </thead>\n",
              "  <tbody>\n",
              "    <tr>\n",
              "      <th>0</th>\n",
              "      <td>1</td>\n",
              "      <td>Type B</td>\n",
              "      <td>2017-03-03</td>\n",
              "      <td>2017-04-09</td>\n",
              "      <td>37 days</td>\n",
              "    </tr>\n",
              "    <tr>\n",
              "      <th>1</th>\n",
              "      <td>2</td>\n",
              "      <td>Type B</td>\n",
              "      <td>2017-03-08</td>\n",
              "      <td>2017-04-09</td>\n",
              "      <td>32 days</td>\n",
              "    </tr>\n",
              "    <tr>\n",
              "      <th>2</th>\n",
              "      <td>3</td>\n",
              "      <td>Type C</td>\n",
              "      <td>2017-03-13</td>\n",
              "      <td>2017-05-08</td>\n",
              "      <td>56 days</td>\n",
              "    </tr>\n",
              "    <tr>\n",
              "      <th>3</th>\n",
              "      <td>4</td>\n",
              "      <td>Type B</td>\n",
              "      <td>2017-03-29</td>\n",
              "      <td>2017-04-30</td>\n",
              "      <td>32 days</td>\n",
              "    </tr>\n",
              "    <tr>\n",
              "      <th>4</th>\n",
              "      <td>5</td>\n",
              "      <td>Type B</td>\n",
              "      <td>2017-04-03</td>\n",
              "      <td>2017-05-07</td>\n",
              "      <td>34 days</td>\n",
              "    </tr>\n",
              "  </tbody>\n",
              "</table>\n",
              "</div>"
            ],
            "text/plain": [
              "   campaign_id campaign_type start_date   end_date     DUR\n",
              "0            1        Type B 2017-03-03 2017-04-09 37 days\n",
              "1            2        Type B 2017-03-08 2017-04-09 32 days\n",
              "2            3        Type C 2017-03-13 2017-05-08 56 days\n",
              "3            4        Type B 2017-03-29 2017-04-30 32 days\n",
              "4            5        Type B 2017-04-03 2017-05-07 34 days"
            ]
          },
          "metadata": {
            "tags": []
          },
          "execution_count": 10
        }
      ]
    },
    {
      "cell_type": "code",
      "metadata": {
        "id": "1rRDK65RcXSu",
        "colab_type": "code",
        "outputId": "5d27d8f3-c903-4066-efcd-7a4b09fbe1dd",
        "colab": {
          "base_uri": "https://localhost:8080/",
          "height": 230
        }
      },
      "source": [
        "#CHECKING THE NEW VARIABLE DATA TYPE\n",
        "dfs[\"camp_dt\"].info()"
      ],
      "execution_count": 11,
      "outputs": [
        {
          "output_type": "stream",
          "text": [
            "<class 'pandas.core.frame.DataFrame'>\n",
            "RangeIndex: 27 entries, 0 to 26\n",
            "Data columns (total 5 columns):\n",
            " #   Column         Non-Null Count  Dtype          \n",
            "---  ------         --------------  -----          \n",
            " 0   campaign_id    27 non-null     int64          \n",
            " 1   campaign_type  27 non-null     object         \n",
            " 2   start_date     27 non-null     datetime64[ns] \n",
            " 3   end_date       27 non-null     datetime64[ns] \n",
            " 4   DUR            27 non-null     timedelta64[ns]\n",
            "dtypes: datetime64[ns](2), int64(1), object(1), timedelta64[ns](1)\n",
            "memory usage: 1.2+ KB\n"
          ],
          "name": "stdout"
        }
      ]
    },
    {
      "cell_type": "code",
      "metadata": {
        "id": "MGZcl85CcXSz",
        "colab_type": "code",
        "colab": {}
      },
      "source": [
        "#WE WANT TO CHANGE THIS TO INTEGER FOR SIMPLICITY OF OUR ANALYSIS\n",
        "dfs[\"camp_dt\"][\"DUR\"] = pd.to_numeric(dfs[\"camp_dt\"][\"DUR\"].dt.days, downcast = 'integer')"
      ],
      "execution_count": 0,
      "outputs": []
    },
    {
      "cell_type": "code",
      "metadata": {
        "id": "T1rjoHGqcXTe",
        "colab_type": "code",
        "outputId": "291e5b33-82ab-4be6-f32d-6f717d989c00",
        "colab": {
          "base_uri": "https://localhost:8080/",
          "height": 230
        }
      },
      "source": [
        "#CHECKING THE DUR DTYPE AGAIN\n",
        "dfs[\"camp_dt\"].info()"
      ],
      "execution_count": 13,
      "outputs": [
        {
          "output_type": "stream",
          "text": [
            "<class 'pandas.core.frame.DataFrame'>\n",
            "RangeIndex: 27 entries, 0 to 26\n",
            "Data columns (total 5 columns):\n",
            " #   Column         Non-Null Count  Dtype         \n",
            "---  ------         --------------  -----         \n",
            " 0   campaign_id    27 non-null     int64         \n",
            " 1   campaign_type  27 non-null     object        \n",
            " 2   start_date     27 non-null     datetime64[ns]\n",
            " 3   end_date       27 non-null     datetime64[ns]\n",
            " 4   DUR            27 non-null     int16         \n",
            "dtypes: datetime64[ns](2), int16(1), int64(1), object(1)\n",
            "memory usage: 1.0+ KB\n"
          ],
          "name": "stdout"
        }
      ]
    },
    {
      "cell_type": "code",
      "metadata": {
        "id": "Ye1xM0H-cXTt",
        "colab_type": "code",
        "outputId": "356b0622-cb8d-4e23-9448-fd8cdd1523d5",
        "colab": {
          "base_uri": "https://localhost:8080/",
          "height": 197
        }
      },
      "source": [
        "#CHECKING DATA IN TABULATED FORM\n",
        "dfs[\"camp_dt\"].head()"
      ],
      "execution_count": 14,
      "outputs": [
        {
          "output_type": "execute_result",
          "data": {
            "text/html": [
              "<div>\n",
              "<style scoped>\n",
              "    .dataframe tbody tr th:only-of-type {\n",
              "        vertical-align: middle;\n",
              "    }\n",
              "\n",
              "    .dataframe tbody tr th {\n",
              "        vertical-align: top;\n",
              "    }\n",
              "\n",
              "    .dataframe thead th {\n",
              "        text-align: right;\n",
              "    }\n",
              "</style>\n",
              "<table border=\"1\" class=\"dataframe\">\n",
              "  <thead>\n",
              "    <tr style=\"text-align: right;\">\n",
              "      <th></th>\n",
              "      <th>campaign_id</th>\n",
              "      <th>campaign_type</th>\n",
              "      <th>start_date</th>\n",
              "      <th>end_date</th>\n",
              "      <th>DUR</th>\n",
              "    </tr>\n",
              "  </thead>\n",
              "  <tbody>\n",
              "    <tr>\n",
              "      <th>0</th>\n",
              "      <td>1</td>\n",
              "      <td>Type B</td>\n",
              "      <td>2017-03-03</td>\n",
              "      <td>2017-04-09</td>\n",
              "      <td>37</td>\n",
              "    </tr>\n",
              "    <tr>\n",
              "      <th>1</th>\n",
              "      <td>2</td>\n",
              "      <td>Type B</td>\n",
              "      <td>2017-03-08</td>\n",
              "      <td>2017-04-09</td>\n",
              "      <td>32</td>\n",
              "    </tr>\n",
              "    <tr>\n",
              "      <th>2</th>\n",
              "      <td>3</td>\n",
              "      <td>Type C</td>\n",
              "      <td>2017-03-13</td>\n",
              "      <td>2017-05-08</td>\n",
              "      <td>56</td>\n",
              "    </tr>\n",
              "    <tr>\n",
              "      <th>3</th>\n",
              "      <td>4</td>\n",
              "      <td>Type B</td>\n",
              "      <td>2017-03-29</td>\n",
              "      <td>2017-04-30</td>\n",
              "      <td>32</td>\n",
              "    </tr>\n",
              "    <tr>\n",
              "      <th>4</th>\n",
              "      <td>5</td>\n",
              "      <td>Type B</td>\n",
              "      <td>2017-04-03</td>\n",
              "      <td>2017-05-07</td>\n",
              "      <td>34</td>\n",
              "    </tr>\n",
              "  </tbody>\n",
              "</table>\n",
              "</div>"
            ],
            "text/plain": [
              "   campaign_id campaign_type start_date   end_date  DUR\n",
              "0            1        Type B 2017-03-03 2017-04-09   37\n",
              "1            2        Type B 2017-03-08 2017-04-09   32\n",
              "2            3        Type C 2017-03-13 2017-05-08   56\n",
              "3            4        Type B 2017-03-29 2017-04-30   32\n",
              "4            5        Type B 2017-04-03 2017-05-07   34"
            ]
          },
          "metadata": {
            "tags": []
          },
          "execution_count": 14
        }
      ]
    },
    {
      "cell_type": "code",
      "metadata": {
        "id": "78n91iHPcXTy",
        "colab_type": "code",
        "outputId": "c0817031-8283-4a5e-c9fe-e243a2bef88c",
        "colab": {
          "base_uri": "https://localhost:8080/",
          "height": 634
        }
      },
      "source": [
        "#CALCULATING HOW LONG A CAMPAIGN LAST FOR THE TWO YEAR\n",
        "fig = plt.figure(figsize=(20,10))\n",
        "sns.barplot(x=\"campaign_id\",y=\"DUR\", data=dfs[\"camp_dt\"],orient=\"v\",\n",
        "            order=dfs[\"camp_dt\"].sort_values(by=\"DUR\", ascending=False).campaign_id.values)\n",
        "plt.title('DURATION OF CAMPAIGN', fontsize=17)\n",
        "plt.xlabel('CAMPAIGN ID', fontsize=18)\n",
        "plt.ylabel('DURATION', fontsize=18)\n",
        "plt.show()"
      ],
      "execution_count": 15,
      "outputs": [
        {
          "output_type": "display_data",
          "data": {
            "image/png": "[encoded data removed]",
            "text/plain": [
              "<Figure size 1440x720 with 1 Axes>"
            ]
          },
          "metadata": {
            "tags": [],
            "needs_background": "light"
          }
        }
      ]
    },
    {
      "cell_type": "markdown",
      "metadata": {
        "id": "8C668sl5cXT7",
        "colab_type": "text"
      },
      "source": [
        "Based on the graph, Campaign 15 lasted the long with 160 days approximately followed by Campaign 20 and Campaign 14. \n",
        "Meanwhile, the other campaigns are fairly close to each other ranging from approximately 35 to 70 days\n",
        "Average campaign duration is 46.8 days (mean)"
      ]
    },
    {
      "cell_type": "code",
      "metadata": {
        "id": "cl9NzlUtcXT3",
        "colab_type": "code",
        "outputId": "2378a474-5bde-4b7d-8a65-17079c392305",
        "colab": {
          "base_uri": "https://localhost:8080/",
          "height": 34
        }
      },
      "source": [
        "from numpy import mean\n",
        "camp_dt_avg = sum(dfs[\"camp_dt\"][\"DUR\"])/len(dfs[\"camp_dt\"][\"DUR\"])\n",
        "\n",
        "print(camp_dt_avg)"
      ],
      "execution_count": 16,
      "outputs": [
        {
          "output_type": "stream",
          "text": [
            "46.888888888888886\n"
          ],
          "name": "stdout"
        }
      ]
    },
    {
      "cell_type": "markdown",
      "metadata": {
        "id": "M2rFEH4dcXT7",
        "colab_type": "text"
      },
      "source": [
        "# CAMPAIGNS"
      ]
    },
    {
      "cell_type": "code",
      "metadata": {
        "id": "LaNFrLlucXT8",
        "colab_type": "code",
        "colab": {}
      },
      "source": [
        "#Reading file from Google Drive\n",
        "downloaded = drive.CreateFile({'id':'1ok5TQTspB6cCk6d78QXHRyGfVjX4bxXD'}) \n",
        "downloaded.GetContentFile('camp_d.csv') \n",
        "\n",
        "#Reading Data\n",
        "dfs[\"camp_d\"] = pd.read_csv('camp_d.csv') \n"
      ],
      "execution_count": 0,
      "outputs": []
    },
    {
      "cell_type": "code",
      "metadata": {
        "id": "13wgLBr2cXUC",
        "colab_type": "code",
        "outputId": "8bcb5d4f-572a-46b5-c934-eca33f5b8dec",
        "colab": {
          "base_uri": "https://localhost:8080/",
          "height": 197
        }
      },
      "source": [
        "#CHECK IF DATA IS LOADED\n",
        "dfs[\"camp_d\"].head()"
      ],
      "execution_count": 18,
      "outputs": [
        {
          "output_type": "execute_result",
          "data": {
            "text/html": [
              "<div>\n",
              "<style scoped>\n",
              "    .dataframe tbody tr th:only-of-type {\n",
              "        vertical-align: middle;\n",
              "    }\n",
              "\n",
              "    .dataframe tbody tr th {\n",
              "        vertical-align: top;\n",
              "    }\n",
              "\n",
              "    .dataframe thead th {\n",
              "        text-align: right;\n",
              "    }\n",
              "</style>\n",
              "<table border=\"1\" class=\"dataframe\">\n",
              "  <thead>\n",
              "    <tr style=\"text-align: right;\">\n",
              "      <th></th>\n",
              "      <th>campaign_id</th>\n",
              "      <th>household_id</th>\n",
              "      <th>campaign_type</th>\n",
              "    </tr>\n",
              "  </thead>\n",
              "  <tbody>\n",
              "    <tr>\n",
              "      <th>0</th>\n",
              "      <td>1</td>\n",
              "      <td>105</td>\n",
              "      <td>Type B</td>\n",
              "    </tr>\n",
              "    <tr>\n",
              "      <th>1</th>\n",
              "      <td>1</td>\n",
              "      <td>1238</td>\n",
              "      <td>Type B</td>\n",
              "    </tr>\n",
              "    <tr>\n",
              "      <th>2</th>\n",
              "      <td>1</td>\n",
              "      <td>1258</td>\n",
              "      <td>Type B</td>\n",
              "    </tr>\n",
              "    <tr>\n",
              "      <th>3</th>\n",
              "      <td>1</td>\n",
              "      <td>1483</td>\n",
              "      <td>Type B</td>\n",
              "    </tr>\n",
              "    <tr>\n",
              "      <th>4</th>\n",
              "      <td>1</td>\n",
              "      <td>2200</td>\n",
              "      <td>Type B</td>\n",
              "    </tr>\n",
              "  </tbody>\n",
              "</table>\n",
              "</div>"
            ],
            "text/plain": [
              "   campaign_id  household_id campaign_type\n",
              "0            1           105        Type B\n",
              "1            1          1238        Type B\n",
              "2            1          1258        Type B\n",
              "3            1          1483        Type B\n",
              "4            1          2200        Type B"
            ]
          },
          "metadata": {
            "tags": []
          },
          "execution_count": 18
        }
      ]
    },
    {
      "cell_type": "code",
      "metadata": {
        "id": "6JxZjrVwcXUH",
        "colab_type": "code",
        "outputId": "62bc6db3-cc4a-49b1-cee2-29c234b1c519",
        "colab": {
          "base_uri": "https://localhost:8080/",
          "height": 34
        }
      },
      "source": [
        "#CHECKING HOW MANY WERE EXPOSED TO COUPON\n",
        "total_households = 2500\n",
        "len(dfs[\"camp_d\"].household_id.unique())\n",
        "    \n",
        "    ##Out of 2500 households, 1559 of them received a campaign once, the rest never received a campaign."
      ],
      "execution_count": 19,
      "outputs": [
        {
          "output_type": "execute_result",
          "data": {
            "text/plain": [
              "1559"
            ]
          },
          "metadata": {
            "tags": []
          },
          "execution_count": 19
        }
      ]
    },
    {
      "cell_type": "code",
      "metadata": {
        "id": "2_J2mpxJcXUM",
        "colab_type": "code",
        "outputId": "214a25ab-1f22-4d3b-9142-60964ec9d293",
        "colab": {
          "base_uri": "https://localhost:8080/",
          "height": 605
        }
      },
      "source": [
        "#CREATING & PLOTTING GRAPH IN WHICH WE CAN SEE WHICH CAMPAIGN REACHED HOW MANY HOUSES\n",
        "no_of_received_campaigns_per_house = dfs[\"camp_d\"].household_id.value_counts()\n",
        "no_of_received_campaigns = no_of_received_campaigns_per_house.value_counts()\n",
        "no_of_received_campaigns[0] = total_households-len(no_of_received_campaigns_per_house)\n",
        "no_of_received_campaigns = pd.DataFrame(list(zip(no_of_received_campaigns.index,no_of_received_campaigns)),\n",
        "                        columns=[\"Number of Campaigns Received\",\n",
        "                         \"Number of Households Reached To\"]).sort_values(by=\"Number of Campaigns Received\",ascending=True)\n",
        "\n",
        "#PLOTTING\n",
        "plt.figure(figsize=(20,10))\n",
        "sns.barplot(y=\"Number of Campaigns Received\",\n",
        "            x=\"Number of Households Reached To\",\n",
        "            data=no_of_received_campaigns,orient=\"h\",\n",
        "            order=no_of_received_campaigns[\"Number of Campaigns Received\"])\n",
        "\n",
        "plt.show()\n"
      ],
      "execution_count": 20,
      "outputs": [
        {
          "output_type": "display_data",
          "data": {
            "image/png": "[encoded data removed]",
            "text/plain": [
              "<Figure size 1440x720 with 1 Axes>"
            ]
          },
          "metadata": {
            "tags": [],
            "needs_background": "light"
          }
        }
      ]
    },
    {
      "cell_type": "markdown",
      "metadata": {
        "id": "t1hGiLRVcXUR",
        "colab_type": "text"
      },
      "source": [
        "0 shows those who didn't received campaigns.\n",
        "Whereby, out of the 1559 household who received campaigns, a very small portion of the households received double-digit number of campaigns. Most frequent campaigns which were promoted was one digit campaign. The barchart shows the households and shows counts of the group populations. \n",
        "(We will investigate how this will effect churn rates in the following sections.)"
      ]
    },
    {
      "cell_type": "code",
      "metadata": {
        "id": "TS8_VqDAcXUS",
        "colab_type": "code",
        "outputId": "e2616bdc-9327-423a-97d5-c37b46dada6f",
        "colab": {
          "base_uri": "https://localhost:8080/",
          "height": 623
        }
      },
      "source": [
        "freq_campaigns = pd.DataFrame(list(zip(dfs[\"camp_d\"].campaign_id.value_counts().index, \n",
        "                                       dfs[\"camp_d\"].campaign_id.value_counts())),\n",
        "                              columns=[\"Campaign\",\"Frequency\"])\n",
        "fig = plt.figure(figsize=(20,10))\n",
        "sns.barplot(y=\"Campaign\",x=\"Frequency\",data = freq_campaigns,orient=\"h\",order=freq_campaigns.Campaign)"
      ],
      "execution_count": 21,
      "outputs": [
        {
          "output_type": "execute_result",
          "data": {
            "text/plain": [
              "<matplotlib.axes._subplots.AxesSubplot at 0x7f9e039f7c50>"
            ]
          },
          "metadata": {
            "tags": []
          },
          "execution_count": 21
        },
        {
          "output_type": "display_data",
          "data": {
            "image/png": "[encoded data removed]",
            "text/plain": [
              "<Figure size 1440x720 with 1 Axes>"
            ]
          },
          "metadata": {
            "tags": [],
            "needs_background": "light"
          }
        }
      ]
    },
    {
      "cell_type": "markdown",
      "metadata": {
        "id": "sLC1wbcDcXUV",
        "colab_type": "text"
      },
      "source": [
        "Based on the results, the bar chart above gives the most frequent campaigns. Campaign 18, 13 and 8 are the most frequent campaigns which is 1000 and more households each. \n",
        "P.S. (Frequency axis can be interpreted as unique number of households as No campaigns applied to same customer more than once)."
      ]
    },
    {
      "cell_type": "markdown",
      "metadata": {
        "id": "PeQNzgdccXUW",
        "colab_type": "text"
      },
      "source": [
        "# COUPON"
      ]
    },
    {
      "cell_type": "markdown",
      "metadata": {
        "id": "cjEKyLSFcXUW",
        "colab_type": "text"
      },
      "source": [
        "Below is a lookup table which lists all the coupons sent to customers as part of a campaign, as well as the products for which each coupon is redeemable"
      ]
    },
    {
      "cell_type": "code",
      "metadata": {
        "id": "KH5wjt7QcXUX",
        "colab_type": "code",
        "colab": {}
      },
      "source": [
        "#Reading file from Google Drive\n",
        "downloaded = drive.CreateFile({'id':'1McrfphOcl8_W08cw4NnX7doACvvN2FgN'}) \n",
        "downloaded.GetContentFile('coupon.csv') \n",
        "\n",
        "#Reading Data\n",
        "dfs[\"coupon\"] = pd.read_csv('coupon.csv') "
      ],
      "execution_count": 0,
      "outputs": []
    },
    {
      "cell_type": "code",
      "metadata": {
        "id": "ZOQ-BWmQcXUb",
        "colab_type": "code",
        "outputId": "ee9b25e4-aaa8-45e3-fae7-1a890e80fe8d",
        "colab": {
          "base_uri": "https://localhost:8080/",
          "height": 212
        }
      },
      "source": [
        "#CHECK IF DATA IS LOADED\n",
        "dfs[\"coupon\"].info()"
      ],
      "execution_count": 23,
      "outputs": [
        {
          "output_type": "stream",
          "text": [
            "<class 'pandas.core.frame.DataFrame'>\n",
            "RangeIndex: 116204 entries, 0 to 116203\n",
            "Data columns (total 4 columns):\n",
            " #   Column       Non-Null Count   Dtype  \n",
            "---  ------       --------------   -----  \n",
            " 0   Unnamed: 0   116204 non-null  int64  \n",
            " 1   coupon_upc   116204 non-null  int64  \n",
            " 2   product_id   116204 non-null  float64\n",
            " 3   campaign_id  116204 non-null  int64  \n",
            "dtypes: float64(1), int64(3)\n",
            "memory usage: 3.5 MB\n"
          ],
          "name": "stdout"
        }
      ]
    },
    {
      "cell_type": "markdown",
      "metadata": {
        "id": "tg3tnD45cXUf",
        "colab_type": "text"
      },
      "source": [
        "# COUPON REDEMPTION"
      ]
    },
    {
      "cell_type": "code",
      "metadata": {
        "id": "jt1615ZncXUg",
        "colab_type": "code",
        "colab": {}
      },
      "source": [
        "#Reading file from Google Drive\n",
        "downloaded = drive.CreateFile({'id':'19uqHMpjnButoL4chDBIA9FbHAJUVwMG7'}) \n",
        "downloaded.GetContentFile('coup_red.csv') \n",
        "\n",
        "#Reading Data\n",
        "dfs[\"coup_rd\"] = pd.read_csv('coup_red.csv') "
      ],
      "execution_count": 0,
      "outputs": []
    },
    {
      "cell_type": "code",
      "metadata": {
        "id": "sIjGYUN1cXUj",
        "colab_type": "code",
        "outputId": "b1e832f7-ee72-4cc5-dced-b02b5a365691",
        "colab": {
          "base_uri": "https://localhost:8080/",
          "height": 230
        }
      },
      "source": [
        "#CHECKING DATA TYPE\n",
        "dfs[\"coup_rd\"].info()"
      ],
      "execution_count": 25,
      "outputs": [
        {
          "output_type": "stream",
          "text": [
            "<class 'pandas.core.frame.DataFrame'>\n",
            "RangeIndex: 2102 entries, 0 to 2101\n",
            "Data columns (total 5 columns):\n",
            " #   Column           Non-Null Count  Dtype \n",
            "---  ------           --------------  ----- \n",
            " 0   Unnamed: 0       2102 non-null   int64 \n",
            " 1   household_id     2102 non-null   int64 \n",
            " 2   coupon_upc       2102 non-null   int64 \n",
            " 3   campaign_id      2102 non-null   int64 \n",
            " 4   redemption_date  2102 non-null   object\n",
            "dtypes: int64(4), object(1)\n",
            "memory usage: 82.2+ KB\n"
          ],
          "name": "stdout"
        }
      ]
    },
    {
      "cell_type": "code",
      "metadata": {
        "id": "Y2Grm3KvcXUn",
        "colab_type": "code",
        "outputId": "d28d401c-0c21-40d2-f9b7-8091c0020084",
        "colab": {
          "base_uri": "https://localhost:8080/",
          "height": 34
        }
      },
      "source": [
        "#Checking number count of redeemed coupon\n",
        "len(dfs[\"coup_rd\"].household_id.unique())"
      ],
      "execution_count": 26,
      "outputs": [
        {
          "output_type": "execute_result",
          "data": {
            "text/plain": [
              "410"
            ]
          },
          "metadata": {
            "tags": []
          },
          "execution_count": 26
        }
      ]
    },
    {
      "cell_type": "markdown",
      "metadata": {
        "id": "Xj2NkRHZcXUx",
        "colab_type": "text"
      },
      "source": [
        "Out of 2500 households, only 410 of them (16.4%) redeemed coupons within this period and they are unique. \n",
        "OR\n",
        "Out of 1559 households, who were exposed to campaign(s), only 410 (26.3%) redeemed the campaign."
      ]
    },
    {
      "cell_type": "code",
      "metadata": {
        "id": "AbD6vG8TcXUy",
        "colab_type": "code",
        "outputId": "42b3c809-959e-495d-aa27-bfdf67d78eef",
        "colab": {
          "base_uri": "https://localhost:8080/",
          "height": 605
        }
      },
      "source": [
        "#Checking and Plotting most frequent campaigns\n",
        "redeem_frequency = pd.DataFrame(list(zip(dfs[\"coup_rd\"].campaign_id.value_counts().index, \n",
        "                                         dfs[\"coup_rd\"].campaign_id.value_counts())),columns=[\"Campaign\",\"No of Redeems\"])\n",
        "fig = plt.figure(figsize=(12,10))\n",
        "sns.barplot(y=\"Campaign\",x=\"No of Redeems\",data = redeem_frequency,orient=\"h\",order=redeem_frequency.Campaign)\n",
        "plt.show()\n"
      ],
      "execution_count": 27,
      "outputs": [
        {
          "output_type": "display_data",
          "data": {
            "image/png": "[encoded data removed]",
            "text/plain": [
              "<Figure size 864x720 with 1 Axes>"
            ]
          },
          "metadata": {
            "tags": [],
            "needs_background": "light"
          }
        }
      ]
    },
    {
      "cell_type": "markdown",
      "metadata": {
        "id": "zePk5RwrcXU2",
        "colab_type": "text"
      },
      "source": [
        "Out of all the redeemed campaigns, most frequent campaigns  are 18, 13 and 8 - Type A, which attracts the most number of redeems as expected. The barchart above gives the number of redeems per campaign."
      ]
    },
    {
      "cell_type": "code",
      "metadata": {
        "id": "Z4Xa6HGncXU3",
        "colab_type": "code",
        "outputId": "e61d148b-4946-4339-f850-3140ad9d0a2d",
        "colab": {
          "base_uri": "https://localhost:8080/",
          "height": 605
        }
      },
      "source": [
        "#Checking and Plotting most frequent campaigns in Percentage\n",
        "redems_per_camp = dfs[\"coup_rd\"].campaign_id.value_counts().sort_values()/dfs[\"camp_d\"].campaign_id.value_counts().sort_values()\n",
        "redems_per_camp = pd.DataFrame(list(zip(redems_per_camp.index,redems_per_camp)),columns=[\"Campaign\",\"Redeem_Rate\"]).sort_values(by=\"Redeem_Rate\",ascending=False)\n",
        "plt.figure(figsize=(12,10))\n",
        "sns.barplot(y=\"Campaign\",x=\"Redeem_Rate\",data=redems_per_camp,orient=\"h\",order=redems_per_camp.Campaign)\n",
        "plt.show()"
      ],
      "execution_count": 28,
      "outputs": [
        {
          "output_type": "display_data",
          "data": {
            "image/png": "[encoded data removed]",
            "text/plain": [
              "<Figure size 864x720 with 1 Axes>"
            ]
          },
          "metadata": {
            "tags": [],
            "needs_background": "light"
          }
        }
      ]
    },
    {
      "cell_type": "markdown",
      "metadata": {
        "id": "clYA1s2ucXU7",
        "colab_type": "text"
      },
      "source": [
        "The barchart above gives the redeem rates of each campaign in a descending order. Campaign 13 and 18 are clearly have higher redeem rates (~60%) as compared to the rest of campaigns.\n",
        "\n",
        "Based on these results, campaign organisers did well by promoting the right campaigns 13 and 18 more frequently."
      ]
    },
    {
      "cell_type": "markdown",
      "metadata": {
        "id": "hNcZTfsVcXU8",
        "colab_type": "text"
      },
      "source": [
        "# TRANSACTIONAL DATA"
      ]
    },
    {
      "cell_type": "code",
      "metadata": {
        "id": "cqbGzggwcXU9",
        "colab_type": "code",
        "colab": {}
      },
      "source": [
        "#Reading file from Google Drive\n",
        "downloaded = drive.CreateFile({'id':'1Esp5wiG_0G5ZRrvGVxy-W6zw3e7KKR6A'}) \n",
        "downloaded.GetContentFile('transaction.csv') \n",
        "\n",
        "#Reading Data\n",
        "dfs[\"trans_data\"] = pd.read_csv('transaction.csv') "
      ],
      "execution_count": 0,
      "outputs": []
    },
    {
      "cell_type": "code",
      "metadata": {
        "id": "bYdKtfiacXVD",
        "colab_type": "code",
        "outputId": "db213aaf-52e7-4107-c3ca-b81dbbe6d994",
        "colab": {
          "base_uri": "https://localhost:8080/",
          "height": 197
        }
      },
      "source": [
        "#Checking Data\n",
        "dfs[\"trans_data\"].head()"
      ],
      "execution_count": 30,
      "outputs": [
        {
          "output_type": "execute_result",
          "data": {
            "text/html": [
              "<div>\n",
              "<style scoped>\n",
              "    .dataframe tbody tr th:only-of-type {\n",
              "        vertical-align: middle;\n",
              "    }\n",
              "\n",
              "    .dataframe tbody tr th {\n",
              "        vertical-align: top;\n",
              "    }\n",
              "\n",
              "    .dataframe thead th {\n",
              "        text-align: right;\n",
              "    }\n",
              "</style>\n",
              "<table border=\"1\" class=\"dataframe\">\n",
              "  <thead>\n",
              "    <tr style=\"text-align: right;\">\n",
              "      <th></th>\n",
              "      <th>Unnamed: 0</th>\n",
              "      <th>household_id</th>\n",
              "      <th>store_id</th>\n",
              "      <th>basket_id</th>\n",
              "      <th>product_id</th>\n",
              "      <th>quantity</th>\n",
              "      <th>sales_value</th>\n",
              "      <th>retail_disc</th>\n",
              "      <th>coupon_disc</th>\n",
              "      <th>coupon_match_disc</th>\n",
              "      <th>week</th>\n",
              "      <th>transaction_timestamp</th>\n",
              "    </tr>\n",
              "  </thead>\n",
              "  <tbody>\n",
              "    <tr>\n",
              "      <th>0</th>\n",
              "      <td>1</td>\n",
              "      <td>900</td>\n",
              "      <td>330</td>\n",
              "      <td>3.119857e+10</td>\n",
              "      <td>1095275.0</td>\n",
              "      <td>1</td>\n",
              "      <td>0.50</td>\n",
              "      <td>0.00</td>\n",
              "      <td>0.0</td>\n",
              "      <td>0.0</td>\n",
              "      <td>1</td>\n",
              "      <td>2017-01-01 06:53:26</td>\n",
              "    </tr>\n",
              "    <tr>\n",
              "      <th>1</th>\n",
              "      <td>2</td>\n",
              "      <td>900</td>\n",
              "      <td>330</td>\n",
              "      <td>3.119857e+10</td>\n",
              "      <td>9878513.0</td>\n",
              "      <td>1</td>\n",
              "      <td>0.99</td>\n",
              "      <td>0.10</td>\n",
              "      <td>0.0</td>\n",
              "      <td>0.0</td>\n",
              "      <td>1</td>\n",
              "      <td>2017-01-01 07:10:28</td>\n",
              "    </tr>\n",
              "    <tr>\n",
              "      <th>2</th>\n",
              "      <td>3</td>\n",
              "      <td>1228</td>\n",
              "      <td>406</td>\n",
              "      <td>3.119866e+10</td>\n",
              "      <td>1041453.0</td>\n",
              "      <td>1</td>\n",
              "      <td>1.43</td>\n",
              "      <td>0.15</td>\n",
              "      <td>0.0</td>\n",
              "      <td>0.0</td>\n",
              "      <td>1</td>\n",
              "      <td>2017-01-01 07:26:30</td>\n",
              "    </tr>\n",
              "    <tr>\n",
              "      <th>3</th>\n",
              "      <td>4</td>\n",
              "      <td>906</td>\n",
              "      <td>319</td>\n",
              "      <td>3.119871e+10</td>\n",
              "      <td>1020156.0</td>\n",
              "      <td>1</td>\n",
              "      <td>1.50</td>\n",
              "      <td>0.29</td>\n",
              "      <td>0.0</td>\n",
              "      <td>0.0</td>\n",
              "      <td>1</td>\n",
              "      <td>2017-01-01 07:30:27</td>\n",
              "    </tr>\n",
              "    <tr>\n",
              "      <th>4</th>\n",
              "      <td>5</td>\n",
              "      <td>906</td>\n",
              "      <td>319</td>\n",
              "      <td>3.119871e+10</td>\n",
              "      <td>1053875.0</td>\n",
              "      <td>2</td>\n",
              "      <td>2.78</td>\n",
              "      <td>0.80</td>\n",
              "      <td>0.0</td>\n",
              "      <td>0.0</td>\n",
              "      <td>1</td>\n",
              "      <td>2017-01-01 07:30:27</td>\n",
              "    </tr>\n",
              "  </tbody>\n",
              "</table>\n",
              "</div>"
            ],
            "text/plain": [
              "   Unnamed: 0  household_id  ...  week  transaction_timestamp\n",
              "0           1           900  ...     1    2017-01-01 06:53:26\n",
              "1           2           900  ...     1    2017-01-01 07:10:28\n",
              "2           3          1228  ...     1    2017-01-01 07:26:30\n",
              "3           4           906  ...     1    2017-01-01 07:30:27\n",
              "4           5           906  ...     1    2017-01-01 07:30:27\n",
              "\n",
              "[5 rows x 12 columns]"
            ]
          },
          "metadata": {
            "tags": []
          },
          "execution_count": 30
        }
      ]
    },
    {
      "cell_type": "code",
      "metadata": {
        "id": "4b-xJmZIcXVJ",
        "colab_type": "code",
        "colab": {}
      },
      "source": [
        "##Doing some descriptive analysis on the transactional data... \n",
        "    ##First, we are group the data by household numbers\n",
        "grouped_sum = dfs[\"trans_data\"].groupby(\"household_id\").sum()"
      ],
      "execution_count": 0,
      "outputs": []
    },
    {
      "cell_type": "code",
      "metadata": {
        "id": "13OXx2OmcXVM",
        "colab_type": "code",
        "outputId": "25034c97-89ca-4a07-ac4b-50f49c47413d",
        "colab": {
          "base_uri": "https://localhost:8080/",
          "height": 34
        }
      },
      "source": [
        "#Average amount of purchases by a household within the two year.\n",
        "av_purc = round(dfs[\"trans_data\"].sales_value.sum()/len(grouped_sum),1)\n",
        "av_purc"
      ],
      "execution_count": 32,
      "outputs": [
        {
          "output_type": "execute_result",
          "data": {
            "text/plain": [
              "1861.5"
            ]
          },
          "metadata": {
            "tags": []
          },
          "execution_count": 32
        }
      ]
    },
    {
      "cell_type": "code",
      "metadata": {
        "id": "HigHy1-VcXVP",
        "colab_type": "code",
        "outputId": "a0f412cf-1db8-47fb-bcf6-dfbbe4557899",
        "colab": {
          "base_uri": "https://localhost:8080/",
          "height": 34
        }
      },
      "source": [
        "##Checking the Average total number of products purchased by a household within two years. **\n",
        "av_tot_prod = round(grouped_sum[\"quantity\"].mean(),1)\n",
        "av_tot_prod"
      ],
      "execution_count": 33,
      "outputs": [
        {
          "output_type": "execute_result",
          "data": {
            "text/plain": [
              "61937.3"
            ]
          },
          "metadata": {
            "tags": []
          },
          "execution_count": 33
        }
      ]
    },
    {
      "cell_type": "code",
      "metadata": {
        "id": "jtKq2j_FcXVS",
        "colab_type": "code",
        "outputId": "211e7baf-97ed-491f-e1d3-febaf6a4e66e",
        "colab": {
          "base_uri": "https://localhost:8080/",
          "height": 34
        }
      },
      "source": [
        "#Checking Average total number of unique products purchased by a household within two years.\n",
        "av_uniq_prod = round(len(dfs[\"trans_data\"].groupby([\"household_id\",\"product_id\"]).sum()[\"quantity\"])/len(grouped_sum),1)\n",
        "av_uniq_prod"
      ],
      "execution_count": 34,
      "outputs": [
        {
          "output_type": "execute_result",
          "data": {
            "text/plain": [
              "351.4"
            ]
          },
          "metadata": {
            "tags": []
          },
          "execution_count": 34
        }
      ]
    },
    {
      "cell_type": "code",
      "metadata": {
        "id": "2zBZItYUcXVV",
        "colab_type": "code",
        "outputId": "a824dc50-4351-4590-cab9-c3dcedb63b76",
        "colab": {
          "base_uri": "https://localhost:8080/",
          "height": 34
        }
      },
      "source": [
        "#Average number of store visits per household within Two Years.\n",
        "av_days_visited = round(len(dfs[\"trans_data\"].groupby([\"household_id\",\"transaction_timestamp\"]).count())/len(grouped_sum),1)\n",
        "av_days_visited\n"
      ],
      "execution_count": 35,
      "outputs": [
        {
          "output_type": "execute_result",
          "data": {
            "text/plain": [
              "63.1"
            ]
          },
          "metadata": {
            "tags": []
          },
          "execution_count": 35
        }
      ]
    },
    {
      "cell_type": "markdown",
      "metadata": {
        "id": "rln-EGgacXVY",
        "colab_type": "text"
      },
      "source": [
        "Descriptive Statistics Results:\n",
        "\n",
        "1. The average amount of purchase by a household is 1861.5\n",
        "2. The average total numbers of product purchases by a household are 61938 in 2 Years\n",
        "3. The average total numbers of unique product purchases by a household are 352 in 2 Year\n",
        "4. On average, household visits a store is 64 times.\n",
        "\n",
        "These insights can work as a basis for a decision making for a manager to decide about the campaigns exposure."
      ]
    },
    {
      "cell_type": "markdown",
      "metadata": {
        "id": "PzBBhUW6cXVa",
        "colab_type": "text"
      },
      "source": [
        "***Now, we want to see the TOP 20 stores who has the highest sales based on total sales amount (USD) is calculated and plotted below. ***"
      ]
    },
    {
      "cell_type": "code",
      "metadata": {
        "id": "RnLYw4zncXVb",
        "colab_type": "code",
        "outputId": "6c249ac5-9272-49dd-bd9d-2209e0939e14",
        "colab": {
          "base_uri": "https://localhost:8080/",
          "height": 605
        }
      },
      "source": [
        "#Top 20 Stores and Bar Char\n",
        "sales_per_store = dfs[\"trans_data\"].groupby(\"store_id\").sum()[\"sales_value\"].sort_values(ascending=False)\n",
        "sales_per_store = pd.DataFrame(list(zip(sales_per_store.index,sales_per_store)),columns=[\"Store ID\",\"Total Sales (USD)\"])\n",
        "fig_store = plt.figure(figsize=(15,10))\n",
        "sns.barplot(y=\"Store ID\",x=\"Total Sales (USD)\", data = sales_per_store[:20],order=sales_per_store[:20][\"Store ID\"],orient=\"h\")\n",
        "plt.show()"
      ],
      "execution_count": 36,
      "outputs": [
        {
          "output_type": "display_data",
          "data": {
            "image/png": "[encoded data removed]",
            "text/plain": [
              "<Figure size 1080x720 with 1 Axes>"
            ]
          },
          "metadata": {
            "tags": [],
            "needs_background": "light"
          }
        }
      ]
    },
    {
      "cell_type": "markdown",
      "metadata": {
        "id": "MPDR8Yn0cXVg",
        "colab_type": "text"
      },
      "source": [
        "Stores Number 367 and 406 made the most sales amongst 582 stores with over (USD) 140000 and (USD) 120000 respectively.\n"
      ]
    },
    {
      "cell_type": "markdown",
      "metadata": {
        "id": "Q-vQdHO-cXVg",
        "colab_type": "text"
      },
      "source": [
        "Now, we aim to see the top 20 customers based on total purchase amount (USD) is calculated and displayed below. "
      ]
    },
    {
      "cell_type": "code",
      "metadata": {
        "id": "Uomo2iMycXVh",
        "colab_type": "code",
        "outputId": "5cbfd956-2619-4243-b3e0-9481bb42566d",
        "colab": {
          "base_uri": "https://localhost:8080/",
          "height": 605
        }
      },
      "source": [
        "purc_per_cust = dfs[\"trans_data\"].groupby(\"household_id\").sum()[\"sales_value\"].sort_values(ascending=False)\n",
        "purc_per_cust = pd.DataFrame(list(zip(purc_per_cust.index,purc_per_cust)),columns=[\"household_id\",\"Total Purchase (USD)\"])\n",
        "fig_store = plt.figure(figsize=(15,10))\n",
        "sns.barplot(y=\"household_id\",x=\"Total Purchase (USD)\",data = purc_per_cust[:20],order=purc_per_cust[:20][\"household_id\"],orient=\"h\")\n",
        "plt.show()\n"
      ],
      "execution_count": 37,
      "outputs": [
        {
          "output_type": "display_data",
          "data": {
            "image/png": "[encoded data removed]",
            "text/plain": [
              "<Figure size 1080x720 with 1 Axes>"
            ]
          },
          "metadata": {
            "tags": [],
            "needs_background": "light"
          }
        }
      ]
    },
    {
      "cell_type": "markdown",
      "metadata": {
        "id": "nqCcIHhDcXVk",
        "colab_type": "text"
      },
      "source": [
        "Customer with ID number 1023 made the highest sales amount appxorimately (USD 25000), followed by customer with ID number 406 with approximately (USD 17000). "
      ]
    },
    {
      "cell_type": "markdown",
      "metadata": {
        "id": "qe8d43l1cXVk",
        "colab_type": "text"
      },
      "source": [
        "# DEMOGRAPHICS\n",
        "Here, we are loading the demographics data which contains household demographical information i.e. age group, marital status and households size. \n",
        "\n",
        "We will be using this data as a base to build our models and possible add features.\n",
        "\n",
        "After that, the target variable for the churn prediction will be added in the final dataset before moving on to the predictive modelling."
      ]
    },
    {
      "cell_type": "code",
      "metadata": {
        "id": "e09EOefucXVl",
        "colab_type": "code",
        "colab": {}
      },
      "source": [
        "#Reading file from Google Drive\n",
        "downloaded = drive.CreateFile({'id':'1r7uO5V0LRAPrZ1O4FxyjXtR4EgR5xhix'}) \n",
        "downloaded.GetContentFile('demo.csv') \n",
        "\n",
        "#Reading Data\n",
        "dfs[\"demo\"] = pd.read_csv('demo.csv') "
      ],
      "execution_count": 0,
      "outputs": []
    },
    {
      "cell_type": "code",
      "metadata": {
        "id": "0wFg8U3vcXVo",
        "colab_type": "code",
        "colab": {}
      },
      "source": [
        "def pie_categorical(data):\n",
        "    #function to plot the histogram of categorical variables in pie graph\n",
        "    features = data.columns\n",
        "    #plot pie charts of categorical variables\n",
        "    fig_pie_cat = plt.figure(figsize=(15,15))\n",
        "    count = 1\n",
        "    #calculate dynamic numbers of subplot rows and columns\n",
        "    cols = int(np.ceil(np.sqrt(len(features))))\n",
        "    rows = int(np.ceil(len(features)/cols))\n",
        "    for i in features:\n",
        "        ax = fig_pie_cat.add_subplot(rows,cols,count)\n",
        "        data[i].value_counts().plot(kind=\"pie\",autopct=\"%.1f%%\",ax=ax)\n",
        "        plt.ylabel(\"\")\n",
        "        plt.title(i,fontweight=\"bold\",fontsize=15)\n",
        "        count += 1\n",
        "\n",
        "def hist_numeric(data):\n",
        "    #function to plot the histogram of numeric variables\n",
        "    features = data.columns\n",
        "    fig_hists = plt.figure(figsize=(15,15))\n",
        "    fig_hists.subplots_adjust(hspace=0.5,wspace=0.5)\n",
        "    count = 1\n",
        "    #calculate dynamic numbers of subplot rows and columns\n",
        "    cols = int(np.ceil(np.sqrt(len(features))))\n",
        "    rows = int(np.ceil(len(features)/cols))\n",
        "    for i in features:\n",
        "        ax = fig_hists.add_subplot(rows,cols,count)\n",
        "        data[i].plot(kind=\"hist\",alpha=.5,bins=25,edgecolor=\"navy\",legend=False,ax=ax)\n",
        "        ax.set_xlabel(\"\")\n",
        "        ax.set_title(i,fontweight=\"bold\",fontsize=15)\n",
        "        count += 1"
      ],
      "execution_count": 0,
      "outputs": []
    },
    {
      "cell_type": "code",
      "metadata": {
        "id": "JbHTk8PTcXVr",
        "colab_type": "code",
        "outputId": "acaf1daf-749a-4f6b-8192-0bd803c95889",
        "colab": {
          "base_uri": "https://localhost:8080/",
          "height": 864
        }
      },
      "source": [
        "pie_categorical(dfs[\"demo\"].drop(\"household_id\",axis=1))"
      ],
      "execution_count": 40,
      "outputs": [
        {
          "output_type": "display_data",
          "data": {
            "image/png": "[encoded data removed]",
            "text/plain": [
              "<Figure size 1080x1080 with 7 Axes>"
            ]
          },
          "metadata": {
            "tags": []
          }
        }
      ]
    },
    {
      "cell_type": "markdown",
      "metadata": {
        "id": "AeKPpor1cXVv",
        "colab_type": "text"
      },
      "source": [
        "Since all variables are categorical in the demographics dataset, we will use our _piecategorical function. The pie charts below gives the distribution of each categorical variable in the demographics dataset.\n",
        "\n",
        "Some interesting findings:\n",
        "\n",
        "Majority of the customers age in between 35-54 (60%)\n",
        "Married couples are almost 3 times the singles\n",
        "Almost half of the population have a yearly salary between $35-74K\n",
        "Majority of the customers own a house (63%)\n",
        "Majority of the customers does not have a child (70%)"
      ]
    },
    {
      "cell_type": "markdown",
      "metadata": {
        "id": "2wpqMslXcXVy",
        "colab_type": "text"
      },
      "source": [
        "# LOGICAL BASES FOR CHURN PREDICTION \n",
        "\n",
        "In the dataset, we have checked and found that there is no explicit churnout feature. Hence, in order to build our model for churnout, we will set criteria and build feature for churnout or not. For this, we have to define our churn out definition.\n",
        "\n",
        "Churn rate (sometimes called attrition rate), in its broadest sense, is a measure of the number of individuals or items moving out of a collective group over a specific period. It is one of two primary factors that determine the steady-state level of customers a business will support.\n",
        "\n",
        "Churn rate, when applied to a customer base, refers to the proportion of contractual customers or subscribers who leave a supplier during a given time period. It is a possible indicator of customer dissatisfaction, cheaper and/or better offers from the competition, more successful sales and/or marketing by the competition, or reasons having to do with the customer life cycle.\n",
        "\n",
        "In our analysis, churn the customers who don't redeem an 'n' campaign. For this analysis, when we know which customers have churned we can ask them for reasons and prioritize fixes for them. \n",
        "\n",
        "From literaure, a generally accepted retail churn rate is between 5 to 7 percent per year. Less than five percent is a great goal, but a churn rate over ten percent is cause for concern. Even as you acquire more customers, your business can't grow unless you have a greater volume of incoming customers than outgoing ones. Based on one school of thought, satisfying existing customers is actually more profitable than obtaining new ones. For other, it costs five times more to obtain a new customer than it does to retain an existing customer. Therefore, decreasing a churn rate by five percent increases profits up to 125%. \n",
        "\n",
        "**For our transactional churn, we consider following things:**\n",
        " **-- 1 -- A customer as considered as churned if not purchased from a store 2 weeks or more.**\n",
        " **-- 2 -- We are choosing 2 weeks out threshold as it splits households around 90%/10% No Churn/Churn -- shown below.**\n",
        "\n",
        "Henceforth, we will be focused on the customers who churned out - \"IsChurned\""
      ]
    },
    {
      "cell_type": "code",
      "metadata": {
        "id": "yHo1PulTcXVz",
        "colab_type": "code",
        "outputId": "35e2adda-c2ea-4ba1-da75-d3b50b310c27",
        "colab": {
          "base_uri": "https://localhost:8080/",
          "height": 278
        }
      },
      "source": [
        "out_weeks_threshold = 2\n",
        "\n",
        "#weekly customer purchase amount\n",
        "weekly_purchase = dfs[\"trans_data\"].groupby([\"household_id\",\"week\"]).sum()[\"sales_value\"]\n",
        "weekly_purchase = weekly_purchase.unstack()\n",
        "\n",
        "#customer churned by their last 2 week's purchasing behaviour\n",
        "#go through all households and calculate out weeks\n",
        "target = []\n",
        "common_houses = set(dfs[\"demo\"].household_id) & set(dfs[\"trans_data\"].household_id)\n",
        "for house in common_houses:\n",
        "  target.append(53-weekly_purchase.loc[house].dropna().index[-1])\n",
        "\n",
        "target = pd.DataFrame(list(zip(common_houses,target)),columns=[\"household_id\",\"No. of Churned Weeks\"])\n",
        "ax = sns.distplot(target[\"No. of Churned Weeks\"],kde=False)\n",
        "ax.axvline(x=out_weeks_threshold,c=\"red\",label=\"Out weeks threshold\")\n",
        "ax.legend()\n",
        "ax.set_yscale(\"log\")\n",
        "ax.set_ylabel(\"Frequency (Log)\")\n",
        "plt.show()"
      ],
      "execution_count": 41,
      "outputs": [
        {
          "output_type": "display_data",
          "data": {
            "image/png": "[encoded data removed]",
            "text/plain": [
              "<Figure size 432x288 with 1 Axes>"
            ]
          },
          "metadata": {
            "tags": [],
            "needs_background": "light"
          }
        }
      ]
    },
    {
      "cell_type": "code",
      "metadata": {
        "id": "yzDTZlCYcXV3",
        "colab_type": "code",
        "colab": {}
      },
      "source": [
        "#Following the above discussion, we are creating our target variable for modelling where...\n",
        "            ## Churned - True and... \n",
        "                ## Not Churned - False\n",
        "target[\"isChurned\"] = target[\"No. of Churned Weeks\"]>=out_weeks_threshold\n",
        "target.drop(\"No. of Churned Weeks\",axis=1,inplace=True)"
      ],
      "execution_count": 0,
      "outputs": []
    },
    {
      "cell_type": "code",
      "metadata": {
        "id": "2m_JJf7ncXV6",
        "colab_type": "code",
        "outputId": "0b62f123-6d12-4bda-e3ae-32aeed184823",
        "colab": {
          "base_uri": "https://localhost:8080/",
          "height": 264
        }
      },
      "source": [
        "target.isChurned.value_counts().plot(kind=\"pie\",autopct=\"%.1f%%\",labels=[\"Non-Churned\",\"Churned\"])\n",
        "plt.ylabel(\"\")\n",
        "plt.title(\"Churn Variable Distribution\",fontweight=\"bold\")\n",
        "plt.show()"
      ],
      "execution_count": 43,
      "outputs": [
        {
          "output_type": "display_data",
          "data": {
            "image/png": "[encoded data removed]",
            "text/plain": [
              "<Figure size 432x288 with 1 Axes>"
            ]
          },
          "metadata": {
            "tags": []
          }
        }
      ]
    },
    {
      "cell_type": "markdown",
      "metadata": {
        "id": "P-DulBblcXV-",
        "colab_type": "text"
      },
      "source": [
        "# FEATURE ENGINEERING FOR EXPLANATORY VARIABLE\n",
        "From here, we will be focused on to generating some features from our CSV files i.e. \"camp_d\", \"trans_data\" and \"coup_rd\".\n",
        "We will use the data tabulated in those sets to build our churn prediction model."
      ]
    },
    {
      "cell_type": "code",
      "metadata": {
        "id": "C8jJMMjycXV_",
        "colab_type": "code",
        "colab": {}
      },
      "source": [
        "#FEATURE 01 - The List of Campaigns Received by each Household.\n",
        "\n",
        "household_per_campaign = dfs[\"camp_d\"].groupby(\"campaign_id\")[\"household_id\"].apply(list)\n",
        "total_campaigns = len(dfs[\"camp_d\"].campaign_id.unique())\n",
        "df_camp = pd.DataFrame(np.full((total_households,total_campaigns),0),columns=[\"Camp_\"+str(i) for i in range(1,total_campaigns+1)],index=range(1,total_households+1))\n",
        "for camp in household_per_campaign.index:\n",
        "    df_camp.loc[household_per_campaign[camp],\"Camp_\"+str(camp)] = 1\n",
        "\n",
        "df_camp[\"household_id\"] = df_camp.index"
      ],
      "execution_count": 0,
      "outputs": []
    },
    {
      "cell_type": "code",
      "metadata": {
        "id": "JPM1B_8dcXWG",
        "colab_type": "code",
        "colab": {}
      },
      "source": [
        "#FEATURE 02 - The Total Number of Received Campaigns each Household.\n",
        "\n",
        "temp = dfs[\"camp_d\"].household_id.value_counts().sort_index()\n",
        "no_of_received_campaigns = pd.DataFrame(list(zip(temp.index,temp.values.astype(int))),\n",
        "                                        columns=[\"household_id\",\"no_of_received_campaigns\"])"
      ],
      "execution_count": 0,
      "outputs": []
    },
    {
      "cell_type": "markdown",
      "metadata": {
        "id": "bTBzQsMkcXWK",
        "colab_type": "text"
      },
      "source": [
        "Having these two features, we will see if \"the number of campaigns received\" affects \"household's purchase behaviour\"."
      ]
    },
    {
      "cell_type": "code",
      "metadata": {
        "id": "seD-9tT2cXWK",
        "colab_type": "code",
        "outputId": "0c8ada7c-05c7-46f8-e328-5d55fe1f864c",
        "colab": {
          "base_uri": "https://localhost:8080/",
          "height": 386
        }
      },
      "source": [
        "#Checking correlation between received campaign and sales\n",
        "no_of_received_campaigns_vs_sumsales = pd.merge(no_of_received_campaigns,purc_per_cust,on=\"household_id\")\n",
        "sns.lmplot(x=\"no_of_received_campaigns\",y=\"Total Purchase (USD)\",data=no_of_received_campaigns_vs_sumsales)\n",
        "fig_store = plt.figure(figsize=(10,10))\n",
        "plt.show()\n"
      ],
      "execution_count": 46,
      "outputs": [
        {
          "output_type": "display_data",
          "data": {
            "image/png": "[encoded data removed]",
            "text/plain": [
              "<Figure size 360x360 with 1 Axes>"
            ]
          },
          "metadata": {
            "tags": [],
            "needs_background": "light"
          }
        },
        {
          "output_type": "display_data",
          "data": {
            "text/plain": [
              "<Figure size 720x720 with 0 Axes>"
            ]
          },
          "metadata": {
            "tags": []
          }
        }
      ]
    },
    {
      "cell_type": "markdown",
      "metadata": {
        "id": "e7g3kfPQcXWP",
        "colab_type": "text"
      },
      "source": [
        "Based on the results, the correlation between the number of campaigns received by a household and their total purchase amount is visualised in a scatter plot. \n",
        "\n",
        "Linear line in the graph shows the regression model fitted to the scattered data. One can say the aforementioned variables are positively related."
      ]
    },
    {
      "cell_type": "code",
      "metadata": {
        "id": "-hRjH5cmcXWQ",
        "colab_type": "code",
        "outputId": "2c158411-adfc-48ee-f953-19bd122a10ee",
        "colab": {
          "base_uri": "https://localhost:8080/",
          "height": 107
        }
      },
      "source": [
        "no_of_received_campaigns_vs_sumsales.drop(\"household_id\",axis=1).corr()"
      ],
      "execution_count": 47,
      "outputs": [
        {
          "output_type": "execute_result",
          "data": {
            "text/html": [
              "<div>\n",
              "<style scoped>\n",
              "    .dataframe tbody tr th:only-of-type {\n",
              "        vertical-align: middle;\n",
              "    }\n",
              "\n",
              "    .dataframe tbody tr th {\n",
              "        vertical-align: top;\n",
              "    }\n",
              "\n",
              "    .dataframe thead th {\n",
              "        text-align: right;\n",
              "    }\n",
              "</style>\n",
              "<table border=\"1\" class=\"dataframe\">\n",
              "  <thead>\n",
              "    <tr style=\"text-align: right;\">\n",
              "      <th></th>\n",
              "      <th>no_of_received_campaigns</th>\n",
              "      <th>Total Purchase (USD)</th>\n",
              "    </tr>\n",
              "  </thead>\n",
              "  <tbody>\n",
              "    <tr>\n",
              "      <th>no_of_received_campaigns</th>\n",
              "      <td>1.000000</td>\n",
              "      <td>0.671353</td>\n",
              "    </tr>\n",
              "    <tr>\n",
              "      <th>Total Purchase (USD)</th>\n",
              "      <td>0.671353</td>\n",
              "      <td>1.000000</td>\n",
              "    </tr>\n",
              "  </tbody>\n",
              "</table>\n",
              "</div>"
            ],
            "text/plain": [
              "                          no_of_received_campaigns  Total Purchase (USD)\n",
              "no_of_received_campaigns                  1.000000              0.671353\n",
              "Total Purchase (USD)                      0.671353              1.000000"
            ]
          },
          "metadata": {
            "tags": []
          },
          "execution_count": 47
        }
      ]
    },
    {
      "cell_type": "markdown",
      "metadata": {
        "id": "QwdENYWUcXWU",
        "colab_type": "raw"
      },
      "source": [
        "The scatter plot and the correlation value above (67%) indicates that the total purchase amount of a household is positively correlated to the number of campaigns received by them.\n",
        "A positive sign for consumers"
      ]
    },
    {
      "cell_type": "code",
      "metadata": {
        "id": "Wb-F3DsFcXWU",
        "colab_type": "code",
        "colab": {}
      },
      "source": [
        "#FEATURE 03 - List of Campaigns which were redeemed.\n",
        "temp = dfs[\"coup_rd\"].groupby(\"household_id\")[\"campaign_id\"].apply(list)\n",
        "rede_camp_history_per_household = pd.DataFrame(list(zip(temp.index,temp.values)),\n",
        "                                               columns=[\"household_id\",\"redeemed_campaign_id_list\"])"
      ],
      "execution_count": 0,
      "outputs": []
    },
    {
      "cell_type": "code",
      "metadata": {
        "id": "h7rLzRE-cXWX",
        "colab_type": "code",
        "colab": {}
      },
      "source": [
        "#FEATURE 04 - The number of redemptions by each Household\n",
        "temp = dfs[\"coup_rd\"].household_id.value_counts().sort_index()\n",
        "no_of_rede_per_household = pd.DataFrame(list(zip(temp.index,temp.values.astype(int))),\n",
        "                                        columns=[\"household_id\",\"no_of_redeems\"])"
      ],
      "execution_count": 0,
      "outputs": []
    },
    {
      "cell_type": "code",
      "metadata": {
        "id": "ixL-pv5PcXWa",
        "colab_type": "code",
        "colab": {}
      },
      "source": [
        "#FEATURE 05 - Most Frequent Campaigns Type [ (A,B,C) ] received by each Household.\n",
        "camp_list = dfs[\"camp_d\"].groupby(\"household_id\")[\"campaign_type\"].apply(list)\n",
        "most_freq_type = pd.DataFrame(list(zip(camp_list.index,\n",
        "                                       [pd.Series(i).value_counts().idxmax() for i in camp_list])),\n",
        "                              columns=[\"household_id\",\"most_freq_camp_type\"])"
      ],
      "execution_count": 0,
      "outputs": []
    },
    {
      "cell_type": "code",
      "metadata": {
        "id": "9ASJbMb1cXWg",
        "colab_type": "code",
        "colab": {}
      },
      "source": [
        "#FEATURE 06 - Top 20 stores with high number of churnout OR in other words, Households which have more high out weeks.\n",
        "store_per_house = dfs[\"trans_data\"].groupby(\"household_id\")[\"store_id\"].apply(list).apply(np.unique)\n",
        "\n",
        "churn_houses = set(target.household_id[target.isChurned == True].sort_values().values) & set(dfs[\"demo\"].household_id.unique())\n",
        "churn_stores = []\n",
        "for i in churn_houses:\n",
        "  churn_stores.extend(store_per_house[i])\n",
        "\n",
        "churn_stores = pd.Series(churn_stores).value_counts()/len(churn_houses)\n",
        "\n",
        "df_store = dfs[\"trans_data\"].groupby([\"store_id\",\"household_id\"]).count()[\"basket_id\"].unstack(\"store_id\")\n",
        "df_store.replace(np.nan,0,inplace=True)\n",
        "df_store[df_store>0] = 1\n",
        "\n",
        "#select the top stores with high number of churners\n",
        "df_store = df_store.loc[:,churn_stores.index[:20]]\n",
        "df_store.columns=[\"Store_\"+str(i) for i in df_store.columns]"
      ],
      "execution_count": 0,
      "outputs": []
    },
    {
      "cell_type": "code",
      "metadata": {
        "id": "GtTd0EmxcXWj",
        "colab_type": "code",
        "colab": {}
      },
      "source": [
        "#FEATURE 7 - Amount of purchase of a household within two years.\n",
        "purc_per_cust = dfs[\"trans_data\"].groupby(\"household_id\").sum()[\"sales_value\"].sort_values(ascending=False)\n",
        "purc_per_cust = pd.DataFrame(list(zip(purc_per_cust.index,purc_per_cust)),columns=[\"household_id\",\"Total Purchase (USD)\"])"
      ],
      "execution_count": 0,
      "outputs": []
    },
    {
      "cell_type": "code",
      "metadata": {
        "id": "zxvGIvpHcXWo",
        "colab_type": "code",
        "colab": {}
      },
      "source": [
        "#Generate the final dataframe Wwhich we will use predictive modelling\n",
        "\n",
        "pmll = pd.merge(dfs[\"demo\"],df_camp,on=\"household_id\",how=\"left\")\n",
        "pmll = pd.merge(pmll,no_of_received_campaigns,on=\"household_id\",how=\"left\")\n",
        "pmll = pd.merge(pmll,no_of_rede_per_household,on=\"household_id\",how=\"left\")\n",
        "pmll = pd.merge(pmll,df_store,on=\"household_id\",how=\"left\")\n",
        "pmll = pd.merge(pmll,purc_per_cust,on=\"household_id\",how=\"left\")\n",
        "pmll = pd.merge(pmll,target,on=\"household_id\",how=\"left\")\n",
        "pmll = pd.merge(pmll,most_freq_type,on=\"household_id\",how=\"left\")"
      ],
      "execution_count": 0,
      "outputs": []
    },
    {
      "cell_type": "code",
      "metadata": {
        "id": "1dA0iRzucXWu",
        "colab_type": "code",
        "colab": {}
      },
      "source": [
        "#Saving the data file for any loss -NW -\n",
        "pmll.to_csv (r'.../Practical Machine Learning/Final_Merge.csv', index = False, header=True)"
      ],
      "execution_count": 0,
      "outputs": []
    },
    {
      "cell_type": "code",
      "metadata": {
        "id": "MO76DrhDcXW0",
        "colab_type": "code",
        "colab": {}
      },
      "source": [
        "#Reading file from Google Drive\n",
        "downloaded = drive.CreateFile({'id':'1xWAvXH3esgF9EieJFBHWnLqPFruPlXRK'}) \n",
        "downloaded.GetContentFile('Final_Merge.csv') \n",
        "\n",
        "#Reading Data\n",
        "pml = pd.read_csv('Final_Merge.csv') "
      ],
      "execution_count": 0,
      "outputs": []
    },
    {
      "cell_type": "code",
      "metadata": {
        "id": "9nJi9WGscXW-",
        "colab_type": "code",
        "outputId": "32597961-565b-4ccf-e59e-2f15a65876f8",
        "colab": {
          "base_uri": "https://localhost:8080/",
          "height": 34
        }
      },
      "source": [
        "#Checking Dataset - wrt rows and column\n",
        "pml.shape"
      ],
      "execution_count": 56,
      "outputs": [
        {
          "output_type": "execute_result",
          "data": {
            "text/plain": [
              "(801, 70)"
            ]
          },
          "metadata": {
            "tags": []
          },
          "execution_count": 56
        }
      ]
    },
    {
      "cell_type": "code",
      "metadata": {
        "id": "EPk3QSABcXYo",
        "colab_type": "code",
        "outputId": "449603fc-6e2f-46b4-edf5-a8535db3c353",
        "colab": {
          "base_uri": "https://localhost:8080/",
          "height": 105
        }
      },
      "source": [
        "#Checking types and number of features\n",
        "pml.dtypes.value_counts()"
      ],
      "execution_count": 57,
      "outputs": [
        {
          "output_type": "execute_result",
          "data": {
            "text/plain": [
              "int64      58\n",
              "object      8\n",
              "float64     3\n",
              "bool        1\n",
              "dtype: int64"
            ]
          },
          "metadata": {
            "tags": []
          },
          "execution_count": 57
        }
      ]
    },
    {
      "cell_type": "code",
      "metadata": {
        "id": "ieEs5YOccXY8",
        "colab_type": "code",
        "outputId": "8e64ff67-93ab-437b-b712-248c511d860c",
        "colab": {
          "base_uri": "https://localhost:8080/",
          "height": 317
        }
      },
      "source": [
        "#Tabulating the data\n",
        "pml.head()"
      ],
      "execution_count": 58,
      "outputs": [
        {
          "output_type": "execute_result",
          "data": {
            "text/html": [
              "<div>\n",
              "<style scoped>\n",
              "    .dataframe tbody tr th:only-of-type {\n",
              "        vertical-align: middle;\n",
              "    }\n",
              "\n",
              "    .dataframe tbody tr th {\n",
              "        vertical-align: top;\n",
              "    }\n",
              "\n",
              "    .dataframe thead th {\n",
              "        text-align: right;\n",
              "    }\n",
              "</style>\n",
              "<table border=\"1\" class=\"dataframe\">\n",
              "  <thead>\n",
              "    <tr style=\"text-align: right;\">\n",
              "      <th></th>\n",
              "      <th>household_id</th>\n",
              "      <th>age</th>\n",
              "      <th>income</th>\n",
              "      <th>home_ownership</th>\n",
              "      <th>marital_status</th>\n",
              "      <th>household_size</th>\n",
              "      <th>household_comp</th>\n",
              "      <th>kids_count</th>\n",
              "      <th>Camp_1</th>\n",
              "      <th>Camp_2</th>\n",
              "      <th>Camp_3</th>\n",
              "      <th>Camp_4</th>\n",
              "      <th>Camp_5</th>\n",
              "      <th>Camp_6</th>\n",
              "      <th>Camp_7</th>\n",
              "      <th>Camp_8</th>\n",
              "      <th>Camp_9</th>\n",
              "      <th>Camp_10</th>\n",
              "      <th>Camp_11</th>\n",
              "      <th>Camp_12</th>\n",
              "      <th>Camp_13</th>\n",
              "      <th>Camp_14</th>\n",
              "      <th>Camp_15</th>\n",
              "      <th>Camp_16</th>\n",
              "      <th>Camp_17</th>\n",
              "      <th>Camp_18</th>\n",
              "      <th>Camp_19</th>\n",
              "      <th>Camp_20</th>\n",
              "      <th>Camp_21</th>\n",
              "      <th>Camp_22</th>\n",
              "      <th>Camp_23</th>\n",
              "      <th>Camp_24</th>\n",
              "      <th>Camp_25</th>\n",
              "      <th>Camp_26</th>\n",
              "      <th>Camp_27</th>\n",
              "      <th>no_of_received_campaigns</th>\n",
              "      <th>no_of_redeems</th>\n",
              "      <th>Store_367</th>\n",
              "      <th>Store_31862</th>\n",
              "      <th>Store_381</th>\n",
              "      <th>Store_375</th>\n",
              "      <th>Store_317</th>\n",
              "      <th>Store_388</th>\n",
              "      <th>Store_433</th>\n",
              "      <th>Store_412</th>\n",
              "      <th>Store_432</th>\n",
              "      <th>Store_396</th>\n",
              "      <th>Store_446</th>\n",
              "      <th>Store_319</th>\n",
              "      <th>Store_369</th>\n",
              "      <th>Store_450</th>\n",
              "      <th>Store_330</th>\n",
              "      <th>Store_31582</th>\n",
              "      <th>Store_31642</th>\n",
              "      <th>Store_372</th>\n",
              "      <th>Store_402</th>\n",
              "      <th>Store_400</th>\n",
              "      <th>Store_361</th>\n",
              "      <th>Store_34011</th>\n",
              "      <th>Store_335</th>\n",
              "      <th>Store_318</th>\n",
              "      <th>Store_316</th>\n",
              "      <th>Store_445</th>\n",
              "      <th>Store_292</th>\n",
              "      <th>Store_329</th>\n",
              "      <th>Store_363</th>\n",
              "      <th>Store_324</th>\n",
              "      <th>Total Purchase (USD)</th>\n",
              "      <th>isChurned</th>\n",
              "      <th>most_freq_camp_type</th>\n",
              "    </tr>\n",
              "  </thead>\n",
              "  <tbody>\n",
              "    <tr>\n",
              "      <th>0</th>\n",
              "      <td>1</td>\n",
              "      <td>65+</td>\n",
              "      <td>35-49K</td>\n",
              "      <td>Homeowner</td>\n",
              "      <td>Married</td>\n",
              "      <td>2</td>\n",
              "      <td>2 Adults No Kids</td>\n",
              "      <td>0</td>\n",
              "      <td>0</td>\n",
              "      <td>0</td>\n",
              "      <td>0</td>\n",
              "      <td>0</td>\n",
              "      <td>0</td>\n",
              "      <td>0</td>\n",
              "      <td>0</td>\n",
              "      <td>1</td>\n",
              "      <td>0</td>\n",
              "      <td>0</td>\n",
              "      <td>0</td>\n",
              "      <td>1</td>\n",
              "      <td>1</td>\n",
              "      <td>0</td>\n",
              "      <td>0</td>\n",
              "      <td>0</td>\n",
              "      <td>0</td>\n",
              "      <td>1</td>\n",
              "      <td>0</td>\n",
              "      <td>1</td>\n",
              "      <td>0</td>\n",
              "      <td>1</td>\n",
              "      <td>1</td>\n",
              "      <td>0</td>\n",
              "      <td>0</td>\n",
              "      <td>1</td>\n",
              "      <td>0</td>\n",
              "      <td>8.0</td>\n",
              "      <td>5.0</td>\n",
              "      <td>0</td>\n",
              "      <td>0</td>\n",
              "      <td>0</td>\n",
              "      <td>0</td>\n",
              "      <td>0</td>\n",
              "      <td>0</td>\n",
              "      <td>0</td>\n",
              "      <td>0</td>\n",
              "      <td>0</td>\n",
              "      <td>0</td>\n",
              "      <td>0</td>\n",
              "      <td>0</td>\n",
              "      <td>0</td>\n",
              "      <td>0</td>\n",
              "      <td>0</td>\n",
              "      <td>0</td>\n",
              "      <td>0</td>\n",
              "      <td>0</td>\n",
              "      <td>0</td>\n",
              "      <td>0</td>\n",
              "      <td>0</td>\n",
              "      <td>0</td>\n",
              "      <td>0</td>\n",
              "      <td>0</td>\n",
              "      <td>0</td>\n",
              "      <td>0</td>\n",
              "      <td>0</td>\n",
              "      <td>0</td>\n",
              "      <td>0</td>\n",
              "      <td>0</td>\n",
              "      <td>2415.56</td>\n",
              "      <td>False</td>\n",
              "      <td>Type B</td>\n",
              "    </tr>\n",
              "    <tr>\n",
              "      <th>1</th>\n",
              "      <td>1001</td>\n",
              "      <td>45-54</td>\n",
              "      <td>50-74K</td>\n",
              "      <td>Homeowner</td>\n",
              "      <td>Unmarried</td>\n",
              "      <td>1</td>\n",
              "      <td>1 Adult No Kids</td>\n",
              "      <td>0</td>\n",
              "      <td>0</td>\n",
              "      <td>0</td>\n",
              "      <td>0</td>\n",
              "      <td>0</td>\n",
              "      <td>0</td>\n",
              "      <td>0</td>\n",
              "      <td>0</td>\n",
              "      <td>0</td>\n",
              "      <td>0</td>\n",
              "      <td>0</td>\n",
              "      <td>0</td>\n",
              "      <td>0</td>\n",
              "      <td>0</td>\n",
              "      <td>0</td>\n",
              "      <td>0</td>\n",
              "      <td>0</td>\n",
              "      <td>1</td>\n",
              "      <td>1</td>\n",
              "      <td>0</td>\n",
              "      <td>0</td>\n",
              "      <td>0</td>\n",
              "      <td>0</td>\n",
              "      <td>0</td>\n",
              "      <td>0</td>\n",
              "      <td>0</td>\n",
              "      <td>0</td>\n",
              "      <td>1</td>\n",
              "      <td>3.0</td>\n",
              "      <td>NaN</td>\n",
              "      <td>0</td>\n",
              "      <td>0</td>\n",
              "      <td>0</td>\n",
              "      <td>0</td>\n",
              "      <td>0</td>\n",
              "      <td>0</td>\n",
              "      <td>0</td>\n",
              "      <td>0</td>\n",
              "      <td>0</td>\n",
              "      <td>0</td>\n",
              "      <td>0</td>\n",
              "      <td>0</td>\n",
              "      <td>0</td>\n",
              "      <td>0</td>\n",
              "      <td>0</td>\n",
              "      <td>0</td>\n",
              "      <td>0</td>\n",
              "      <td>0</td>\n",
              "      <td>0</td>\n",
              "      <td>0</td>\n",
              "      <td>0</td>\n",
              "      <td>0</td>\n",
              "      <td>0</td>\n",
              "      <td>0</td>\n",
              "      <td>0</td>\n",
              "      <td>0</td>\n",
              "      <td>0</td>\n",
              "      <td>0</td>\n",
              "      <td>0</td>\n",
              "      <td>0</td>\n",
              "      <td>2558.82</td>\n",
              "      <td>False</td>\n",
              "      <td>Type A</td>\n",
              "    </tr>\n",
              "    <tr>\n",
              "      <th>2</th>\n",
              "      <td>1003</td>\n",
              "      <td>35-44</td>\n",
              "      <td>25-34K</td>\n",
              "      <td>Probable Renter</td>\n",
              "      <td>Unmarried</td>\n",
              "      <td>1</td>\n",
              "      <td>1 Adult No Kids</td>\n",
              "      <td>0</td>\n",
              "      <td>0</td>\n",
              "      <td>0</td>\n",
              "      <td>0</td>\n",
              "      <td>0</td>\n",
              "      <td>0</td>\n",
              "      <td>0</td>\n",
              "      <td>0</td>\n",
              "      <td>0</td>\n",
              "      <td>0</td>\n",
              "      <td>0</td>\n",
              "      <td>0</td>\n",
              "      <td>0</td>\n",
              "      <td>0</td>\n",
              "      <td>0</td>\n",
              "      <td>0</td>\n",
              "      <td>0</td>\n",
              "      <td>0</td>\n",
              "      <td>0</td>\n",
              "      <td>0</td>\n",
              "      <td>0</td>\n",
              "      <td>0</td>\n",
              "      <td>0</td>\n",
              "      <td>0</td>\n",
              "      <td>0</td>\n",
              "      <td>0</td>\n",
              "      <td>0</td>\n",
              "      <td>1</td>\n",
              "      <td>1.0</td>\n",
              "      <td>NaN</td>\n",
              "      <td>0</td>\n",
              "      <td>0</td>\n",
              "      <td>0</td>\n",
              "      <td>0</td>\n",
              "      <td>0</td>\n",
              "      <td>0</td>\n",
              "      <td>0</td>\n",
              "      <td>0</td>\n",
              "      <td>0</td>\n",
              "      <td>0</td>\n",
              "      <td>0</td>\n",
              "      <td>0</td>\n",
              "      <td>0</td>\n",
              "      <td>0</td>\n",
              "      <td>1</td>\n",
              "      <td>0</td>\n",
              "      <td>0</td>\n",
              "      <td>0</td>\n",
              "      <td>0</td>\n",
              "      <td>0</td>\n",
              "      <td>0</td>\n",
              "      <td>0</td>\n",
              "      <td>0</td>\n",
              "      <td>0</td>\n",
              "      <td>0</td>\n",
              "      <td>0</td>\n",
              "      <td>0</td>\n",
              "      <td>0</td>\n",
              "      <td>0</td>\n",
              "      <td>0</td>\n",
              "      <td>1404.43</td>\n",
              "      <td>True</td>\n",
              "      <td>Type A</td>\n",
              "    </tr>\n",
              "    <tr>\n",
              "      <th>3</th>\n",
              "      <td>1004</td>\n",
              "      <td>25-34</td>\n",
              "      <td>15-24K</td>\n",
              "      <td>Probable Renter</td>\n",
              "      <td>Unmarried</td>\n",
              "      <td>1</td>\n",
              "      <td>1 Adult No Kids</td>\n",
              "      <td>0</td>\n",
              "      <td>0</td>\n",
              "      <td>0</td>\n",
              "      <td>0</td>\n",
              "      <td>0</td>\n",
              "      <td>0</td>\n",
              "      <td>0</td>\n",
              "      <td>1</td>\n",
              "      <td>1</td>\n",
              "      <td>1</td>\n",
              "      <td>0</td>\n",
              "      <td>0</td>\n",
              "      <td>0</td>\n",
              "      <td>1</td>\n",
              "      <td>0</td>\n",
              "      <td>0</td>\n",
              "      <td>0</td>\n",
              "      <td>0</td>\n",
              "      <td>1</td>\n",
              "      <td>0</td>\n",
              "      <td>0</td>\n",
              "      <td>0</td>\n",
              "      <td>0</td>\n",
              "      <td>0</td>\n",
              "      <td>0</td>\n",
              "      <td>0</td>\n",
              "      <td>0</td>\n",
              "      <td>0</td>\n",
              "      <td>5.0</td>\n",
              "      <td>NaN</td>\n",
              "      <td>0</td>\n",
              "      <td>0</td>\n",
              "      <td>1</td>\n",
              "      <td>0</td>\n",
              "      <td>0</td>\n",
              "      <td>0</td>\n",
              "      <td>0</td>\n",
              "      <td>1</td>\n",
              "      <td>0</td>\n",
              "      <td>0</td>\n",
              "      <td>0</td>\n",
              "      <td>1</td>\n",
              "      <td>0</td>\n",
              "      <td>0</td>\n",
              "      <td>0</td>\n",
              "      <td>0</td>\n",
              "      <td>0</td>\n",
              "      <td>1</td>\n",
              "      <td>0</td>\n",
              "      <td>0</td>\n",
              "      <td>0</td>\n",
              "      <td>0</td>\n",
              "      <td>0</td>\n",
              "      <td>0</td>\n",
              "      <td>1</td>\n",
              "      <td>1</td>\n",
              "      <td>1</td>\n",
              "      <td>0</td>\n",
              "      <td>0</td>\n",
              "      <td>0</td>\n",
              "      <td>2486.93</td>\n",
              "      <td>False</td>\n",
              "      <td>Type A</td>\n",
              "    </tr>\n",
              "    <tr>\n",
              "      <th>4</th>\n",
              "      <td>101</td>\n",
              "      <td>45-54</td>\n",
              "      <td>Under 15K</td>\n",
              "      <td>Homeowner</td>\n",
              "      <td>Married</td>\n",
              "      <td>4</td>\n",
              "      <td>2 Adults Kids</td>\n",
              "      <td>2</td>\n",
              "      <td>0</td>\n",
              "      <td>0</td>\n",
              "      <td>0</td>\n",
              "      <td>0</td>\n",
              "      <td>0</td>\n",
              "      <td>0</td>\n",
              "      <td>0</td>\n",
              "      <td>1</td>\n",
              "      <td>0</td>\n",
              "      <td>0</td>\n",
              "      <td>1</td>\n",
              "      <td>0</td>\n",
              "      <td>1</td>\n",
              "      <td>0</td>\n",
              "      <td>0</td>\n",
              "      <td>0</td>\n",
              "      <td>0</td>\n",
              "      <td>1</td>\n",
              "      <td>0</td>\n",
              "      <td>0</td>\n",
              "      <td>0</td>\n",
              "      <td>0</td>\n",
              "      <td>0</td>\n",
              "      <td>0</td>\n",
              "      <td>0</td>\n",
              "      <td>0</td>\n",
              "      <td>0</td>\n",
              "      <td>4.0</td>\n",
              "      <td>5.0</td>\n",
              "      <td>0</td>\n",
              "      <td>0</td>\n",
              "      <td>0</td>\n",
              "      <td>0</td>\n",
              "      <td>0</td>\n",
              "      <td>0</td>\n",
              "      <td>0</td>\n",
              "      <td>0</td>\n",
              "      <td>0</td>\n",
              "      <td>0</td>\n",
              "      <td>0</td>\n",
              "      <td>0</td>\n",
              "      <td>0</td>\n",
              "      <td>0</td>\n",
              "      <td>0</td>\n",
              "      <td>0</td>\n",
              "      <td>0</td>\n",
              "      <td>0</td>\n",
              "      <td>0</td>\n",
              "      <td>0</td>\n",
              "      <td>0</td>\n",
              "      <td>0</td>\n",
              "      <td>0</td>\n",
              "      <td>0</td>\n",
              "      <td>0</td>\n",
              "      <td>0</td>\n",
              "      <td>1</td>\n",
              "      <td>0</td>\n",
              "      <td>0</td>\n",
              "      <td>0</td>\n",
              "      <td>4483.35</td>\n",
              "      <td>False</td>\n",
              "      <td>Type A</td>\n",
              "    </tr>\n",
              "  </tbody>\n",
              "</table>\n",
              "</div>"
            ],
            "text/plain": [
              "   household_id    age  ... isChurned most_freq_camp_type\n",
              "0             1    65+  ...     False              Type B\n",
              "1          1001  45-54  ...     False              Type A\n",
              "2          1003  35-44  ...      True              Type A\n",
              "3          1004  25-34  ...     False              Type A\n",
              "4           101  45-54  ...     False              Type A\n",
              "\n",
              "[5 rows x 70 columns]"
            ]
          },
          "metadata": {
            "tags": []
          },
          "execution_count": 58
        }
      ]
    },
    {
      "cell_type": "code",
      "metadata": {
        "id": "btUay8f5cXaA",
        "colab_type": "code",
        "outputId": "300dd1c6-4b56-44fa-fa9d-852f76286679",
        "colab": {
          "base_uri": "https://localhost:8080/",
          "height": 460
        }
      },
      "source": [
        "#We have also used boolean masks to check if there are any missing data \n",
        "pml.isnull()"
      ],
      "execution_count": 59,
      "outputs": [
        {
          "output_type": "execute_result",
          "data": {
            "text/html": [
              "<div>\n",
              "<style scoped>\n",
              "    .dataframe tbody tr th:only-of-type {\n",
              "        vertical-align: middle;\n",
              "    }\n",
              "\n",
              "    .dataframe tbody tr th {\n",
              "        vertical-align: top;\n",
              "    }\n",
              "\n",
              "    .dataframe thead th {\n",
              "        text-align: right;\n",
              "    }\n",
              "</style>\n",
              "<table border=\"1\" class=\"dataframe\">\n",
              "  <thead>\n",
              "    <tr style=\"text-align: right;\">\n",
              "      <th></th>\n",
              "      <th>household_id</th>\n",
              "      <th>age</th>\n",
              "      <th>income</th>\n",
              "      <th>home_ownership</th>\n",
              "      <th>marital_status</th>\n",
              "      <th>household_size</th>\n",
              "      <th>household_comp</th>\n",
              "      <th>kids_count</th>\n",
              "      <th>Camp_1</th>\n",
              "      <th>Camp_2</th>\n",
              "      <th>Camp_3</th>\n",
              "      <th>Camp_4</th>\n",
              "      <th>Camp_5</th>\n",
              "      <th>Camp_6</th>\n",
              "      <th>Camp_7</th>\n",
              "      <th>Camp_8</th>\n",
              "      <th>Camp_9</th>\n",
              "      <th>Camp_10</th>\n",
              "      <th>Camp_11</th>\n",
              "      <th>Camp_12</th>\n",
              "      <th>Camp_13</th>\n",
              "      <th>Camp_14</th>\n",
              "      <th>Camp_15</th>\n",
              "      <th>Camp_16</th>\n",
              "      <th>Camp_17</th>\n",
              "      <th>Camp_18</th>\n",
              "      <th>Camp_19</th>\n",
              "      <th>Camp_20</th>\n",
              "      <th>Camp_21</th>\n",
              "      <th>Camp_22</th>\n",
              "      <th>Camp_23</th>\n",
              "      <th>Camp_24</th>\n",
              "      <th>Camp_25</th>\n",
              "      <th>Camp_26</th>\n",
              "      <th>Camp_27</th>\n",
              "      <th>no_of_received_campaigns</th>\n",
              "      <th>no_of_redeems</th>\n",
              "      <th>Store_367</th>\n",
              "      <th>Store_31862</th>\n",
              "      <th>Store_381</th>\n",
              "      <th>Store_375</th>\n",
              "      <th>Store_317</th>\n",
              "      <th>Store_388</th>\n",
              "      <th>Store_433</th>\n",
              "      <th>Store_412</th>\n",
              "      <th>Store_432</th>\n",
              "      <th>Store_396</th>\n",
              "      <th>Store_446</th>\n",
              "      <th>Store_319</th>\n",
              "      <th>Store_369</th>\n",
              "      <th>Store_450</th>\n",
              "      <th>Store_330</th>\n",
              "      <th>Store_31582</th>\n",
              "      <th>Store_31642</th>\n",
              "      <th>Store_372</th>\n",
              "      <th>Store_402</th>\n",
              "      <th>Store_400</th>\n",
              "      <th>Store_361</th>\n",
              "      <th>Store_34011</th>\n",
              "      <th>Store_335</th>\n",
              "      <th>Store_318</th>\n",
              "      <th>Store_316</th>\n",
              "      <th>Store_445</th>\n",
              "      <th>Store_292</th>\n",
              "      <th>Store_329</th>\n",
              "      <th>Store_363</th>\n",
              "      <th>Store_324</th>\n",
              "      <th>Total Purchase (USD)</th>\n",
              "      <th>isChurned</th>\n",
              "      <th>most_freq_camp_type</th>\n",
              "    </tr>\n",
              "  </thead>\n",
              "  <tbody>\n",
              "    <tr>\n",
              "      <th>0</th>\n",
              "      <td>False</td>\n",
              "      <td>False</td>\n",
              "      <td>False</td>\n",
              "      <td>False</td>\n",
              "      <td>False</td>\n",
              "      <td>False</td>\n",
              "      <td>False</td>\n",
              "      <td>False</td>\n",
              "      <td>False</td>\n",
              "      <td>False</td>\n",
              "      <td>False</td>\n",
              "      <td>False</td>\n",
              "      <td>False</td>\n",
              "      <td>False</td>\n",
              "      <td>False</td>\n",
              "      <td>False</td>\n",
              "      <td>False</td>\n",
              "      <td>False</td>\n",
              "      <td>False</td>\n",
              "      <td>False</td>\n",
              "      <td>False</td>\n",
              "      <td>False</td>\n",
              "      <td>False</td>\n",
              "      <td>False</td>\n",
              "      <td>False</td>\n",
              "      <td>False</td>\n",
              "      <td>False</td>\n",
              "      <td>False</td>\n",
              "      <td>False</td>\n",
              "      <td>False</td>\n",
              "      <td>False</td>\n",
              "      <td>False</td>\n",
              "      <td>False</td>\n",
              "      <td>False</td>\n",
              "      <td>False</td>\n",
              "      <td>False</td>\n",
              "      <td>False</td>\n",
              "      <td>False</td>\n",
              "      <td>False</td>\n",
              "      <td>False</td>\n",
              "      <td>False</td>\n",
              "      <td>False</td>\n",
              "      <td>False</td>\n",
              "      <td>False</td>\n",
              "      <td>False</td>\n",
              "      <td>False</td>\n",
              "      <td>False</td>\n",
              "      <td>False</td>\n",
              "      <td>False</td>\n",
              "      <td>False</td>\n",
              "      <td>False</td>\n",
              "      <td>False</td>\n",
              "      <td>False</td>\n",
              "      <td>False</td>\n",
              "      <td>False</td>\n",
              "      <td>False</td>\n",
              "      <td>False</td>\n",
              "      <td>False</td>\n",
              "      <td>False</td>\n",
              "      <td>False</td>\n",
              "      <td>False</td>\n",
              "      <td>False</td>\n",
              "      <td>False</td>\n",
              "      <td>False</td>\n",
              "      <td>False</td>\n",
              "      <td>False</td>\n",
              "      <td>False</td>\n",
              "      <td>False</td>\n",
              "      <td>False</td>\n",
              "      <td>False</td>\n",
              "    </tr>\n",
              "    <tr>\n",
              "      <th>1</th>\n",
              "      <td>False</td>\n",
              "      <td>False</td>\n",
              "      <td>False</td>\n",
              "      <td>False</td>\n",
              "      <td>False</td>\n",
              "      <td>False</td>\n",
              "      <td>False</td>\n",
              "      <td>False</td>\n",
              "      <td>False</td>\n",
              "      <td>False</td>\n",
              "      <td>False</td>\n",
              "      <td>False</td>\n",
              "      <td>False</td>\n",
              "      <td>False</td>\n",
              "      <td>False</td>\n",
              "      <td>False</td>\n",
              "      <td>False</td>\n",
              "      <td>False</td>\n",
              "      <td>False</td>\n",
              "      <td>False</td>\n",
              "      <td>False</td>\n",
              "      <td>False</td>\n",
              "      <td>False</td>\n",
              "      <td>False</td>\n",
              "      <td>False</td>\n",
              "      <td>False</td>\n",
              "      <td>False</td>\n",
              "      <td>False</td>\n",
              "      <td>False</td>\n",
              "      <td>False</td>\n",
              "      <td>False</td>\n",
              "      <td>False</td>\n",
              "      <td>False</td>\n",
              "      <td>False</td>\n",
              "      <td>False</td>\n",
              "      <td>False</td>\n",
              "      <td>True</td>\n",
              "      <td>False</td>\n",
              "      <td>False</td>\n",
              "      <td>False</td>\n",
              "      <td>False</td>\n",
              "      <td>False</td>\n",
              "      <td>False</td>\n",
              "      <td>False</td>\n",
              "      <td>False</td>\n",
              "      <td>False</td>\n",
              "      <td>False</td>\n",
              "      <td>False</td>\n",
              "      <td>False</td>\n",
              "      <td>False</td>\n",
              "      <td>False</td>\n",
              "      <td>False</td>\n",
              "      <td>False</td>\n",
              "      <td>False</td>\n",
              "      <td>False</td>\n",
              "      <td>False</td>\n",
              "      <td>False</td>\n",
              "      <td>False</td>\n",
              "      <td>False</td>\n",
              "      <td>False</td>\n",
              "      <td>False</td>\n",
              "      <td>False</td>\n",
              "      <td>False</td>\n",
              "      <td>False</td>\n",
              "      <td>False</td>\n",
              "      <td>False</td>\n",
              "      <td>False</td>\n",
              "      <td>False</td>\n",
              "      <td>False</td>\n",
              "      <td>False</td>\n",
              "    </tr>\n",
              "    <tr>\n",
              "      <th>2</th>\n",
              "      <td>False</td>\n",
              "      <td>False</td>\n",
              "      <td>False</td>\n",
              "      <td>False</td>\n",
              "      <td>False</td>\n",
              "      <td>False</td>\n",
              "      <td>False</td>\n",
              "      <td>False</td>\n",
              "      <td>False</td>\n",
              "      <td>False</td>\n",
              "      <td>False</td>\n",
              "      <td>False</td>\n",
              "      <td>False</td>\n",
              "      <td>False</td>\n",
              "      <td>False</td>\n",
              "      <td>False</td>\n",
              "      <td>False</td>\n",
              "      <td>False</td>\n",
              "      <td>False</td>\n",
              "      <td>False</td>\n",
              "      <td>False</td>\n",
              "      <td>False</td>\n",
              "      <td>False</td>\n",
              "      <td>False</td>\n",
              "      <td>False</td>\n",
              "      <td>False</td>\n",
              "      <td>False</td>\n",
              "      <td>False</td>\n",
              "      <td>False</td>\n",
              "      <td>False</td>\n",
              "      <td>False</td>\n",
              "      <td>False</td>\n",
              "      <td>False</td>\n",
              "      <td>False</td>\n",
              "      <td>False</td>\n",
              "      <td>False</td>\n",
              "      <td>True</td>\n",
              "      <td>False</td>\n",
              "      <td>False</td>\n",
              "      <td>False</td>\n",
              "      <td>False</td>\n",
              "      <td>False</td>\n",
              "      <td>False</td>\n",
              "      <td>False</td>\n",
              "      <td>False</td>\n",
              "      <td>False</td>\n",
              "      <td>False</td>\n",
              "      <td>False</td>\n",
              "      <td>False</td>\n",
              "      <td>False</td>\n",
              "      <td>False</td>\n",
              "      <td>False</td>\n",
              "      <td>False</td>\n",
              "      <td>False</td>\n",
              "      <td>False</td>\n",
              "      <td>False</td>\n",
              "      <td>False</td>\n",
              "      <td>False</td>\n",
              "      <td>False</td>\n",
              "      <td>False</td>\n",
              "      <td>False</td>\n",
              "      <td>False</td>\n",
              "      <td>False</td>\n",
              "      <td>False</td>\n",
              "      <td>False</td>\n",
              "      <td>False</td>\n",
              "      <td>False</td>\n",
              "      <td>False</td>\n",
              "      <td>False</td>\n",
              "      <td>False</td>\n",
              "    </tr>\n",
              "    <tr>\n",
              "      <th>3</th>\n",
              "      <td>False</td>\n",
              "      <td>False</td>\n",
              "      <td>False</td>\n",
              "      <td>False</td>\n",
              "      <td>False</td>\n",
              "      <td>False</td>\n",
              "      <td>False</td>\n",
              "      <td>False</td>\n",
              "      <td>False</td>\n",
              "      <td>False</td>\n",
              "      <td>False</td>\n",
              "      <td>False</td>\n",
              "      <td>False</td>\n",
              "      <td>False</td>\n",
              "      <td>False</td>\n",
              "      <td>False</td>\n",
              "      <td>False</td>\n",
              "      <td>False</td>\n",
              "      <td>False</td>\n",
              "      <td>False</td>\n",
              "      <td>False</td>\n",
              "      <td>False</td>\n",
              "      <td>False</td>\n",
              "      <td>False</td>\n",
              "      <td>False</td>\n",
              "      <td>False</td>\n",
              "      <td>False</td>\n",
              "      <td>False</td>\n",
              "      <td>False</td>\n",
              "      <td>False</td>\n",
              "      <td>False</td>\n",
              "      <td>False</td>\n",
              "      <td>False</td>\n",
              "      <td>False</td>\n",
              "      <td>False</td>\n",
              "      <td>False</td>\n",
              "      <td>True</td>\n",
              "      <td>False</td>\n",
              "      <td>False</td>\n",
              "      <td>False</td>\n",
              "      <td>False</td>\n",
              "      <td>False</td>\n",
              "      <td>False</td>\n",
              "      <td>False</td>\n",
              "      <td>False</td>\n",
              "      <td>False</td>\n",
              "      <td>False</td>\n",
              "      <td>False</td>\n",
              "      <td>False</td>\n",
              "      <td>False</td>\n",
              "      <td>False</td>\n",
              "      <td>False</td>\n",
              "      <td>False</td>\n",
              "      <td>False</td>\n",
              "      <td>False</td>\n",
              "      <td>False</td>\n",
              "      <td>False</td>\n",
              "      <td>False</td>\n",
              "      <td>False</td>\n",
              "      <td>False</td>\n",
              "      <td>False</td>\n",
              "      <td>False</td>\n",
              "      <td>False</td>\n",
              "      <td>False</td>\n",
              "      <td>False</td>\n",
              "      <td>False</td>\n",
              "      <td>False</td>\n",
              "      <td>False</td>\n",
              "      <td>False</td>\n",
              "      <td>False</td>\n",
              "    </tr>\n",
              "    <tr>\n",
              "      <th>4</th>\n",
              "      <td>False</td>\n",
              "      <td>False</td>\n",
              "      <td>False</td>\n",
              "      <td>False</td>\n",
              "      <td>False</td>\n",
              "      <td>False</td>\n",
              "      <td>False</td>\n",
              "      <td>False</td>\n",
              "      <td>False</td>\n",
              "      <td>False</td>\n",
              "      <td>False</td>\n",
              "      <td>False</td>\n",
              "      <td>False</td>\n",
              "      <td>False</td>\n",
              "      <td>False</td>\n",
              "      <td>False</td>\n",
              "      <td>False</td>\n",
              "      <td>False</td>\n",
              "      <td>False</td>\n",
              "      <td>False</td>\n",
              "      <td>False</td>\n",
              "      <td>False</td>\n",
              "      <td>False</td>\n",
              "      <td>False</td>\n",
              "      <td>False</td>\n",
              "      <td>False</td>\n",
              "      <td>False</td>\n",
              "      <td>False</td>\n",
              "      <td>False</td>\n",
              "      <td>False</td>\n",
              "      <td>False</td>\n",
              "      <td>False</td>\n",
              "      <td>False</td>\n",
              "      <td>False</td>\n",
              "      <td>False</td>\n",
              "      <td>False</td>\n",
              "      <td>False</td>\n",
              "      <td>False</td>\n",
              "      <td>False</td>\n",
              "      <td>False</td>\n",
              "      <td>False</td>\n",
              "      <td>False</td>\n",
              "      <td>False</td>\n",
              "      <td>False</td>\n",
              "      <td>False</td>\n",
              "      <td>False</td>\n",
              "      <td>False</td>\n",
              "      <td>False</td>\n",
              "      <td>False</td>\n",
              "      <td>False</td>\n",
              "      <td>False</td>\n",
              "      <td>False</td>\n",
              "      <td>False</td>\n",
              "      <td>False</td>\n",
              "      <td>False</td>\n",
              "      <td>False</td>\n",
              "      <td>False</td>\n",
              "      <td>False</td>\n",
              "      <td>False</td>\n",
              "      <td>False</td>\n",
              "      <td>False</td>\n",
              "      <td>False</td>\n",
              "      <td>False</td>\n",
              "      <td>False</td>\n",
              "      <td>False</td>\n",
              "      <td>False</td>\n",
              "      <td>False</td>\n",
              "      <td>False</td>\n",
              "      <td>False</td>\n",
              "      <td>False</td>\n",
              "    </tr>\n",
              "    <tr>\n",
              "      <th>...</th>\n",
              "      <td>...</td>\n",
              "      <td>...</td>\n",
              "      <td>...</td>\n",
              "      <td>...</td>\n",
              "      <td>...</td>\n",
              "      <td>...</td>\n",
              "      <td>...</td>\n",
              "      <td>...</td>\n",
              "      <td>...</td>\n",
              "      <td>...</td>\n",
              "      <td>...</td>\n",
              "      <td>...</td>\n",
              "      <td>...</td>\n",
              "      <td>...</td>\n",
              "      <td>...</td>\n",
              "      <td>...</td>\n",
              "      <td>...</td>\n",
              "      <td>...</td>\n",
              "      <td>...</td>\n",
              "      <td>...</td>\n",
              "      <td>...</td>\n",
              "      <td>...</td>\n",
              "      <td>...</td>\n",
              "      <td>...</td>\n",
              "      <td>...</td>\n",
              "      <td>...</td>\n",
              "      <td>...</td>\n",
              "      <td>...</td>\n",
              "      <td>...</td>\n",
              "      <td>...</td>\n",
              "      <td>...</td>\n",
              "      <td>...</td>\n",
              "      <td>...</td>\n",
              "      <td>...</td>\n",
              "      <td>...</td>\n",
              "      <td>...</td>\n",
              "      <td>...</td>\n",
              "      <td>...</td>\n",
              "      <td>...</td>\n",
              "      <td>...</td>\n",
              "      <td>...</td>\n",
              "      <td>...</td>\n",
              "      <td>...</td>\n",
              "      <td>...</td>\n",
              "      <td>...</td>\n",
              "      <td>...</td>\n",
              "      <td>...</td>\n",
              "      <td>...</td>\n",
              "      <td>...</td>\n",
              "      <td>...</td>\n",
              "      <td>...</td>\n",
              "      <td>...</td>\n",
              "      <td>...</td>\n",
              "      <td>...</td>\n",
              "      <td>...</td>\n",
              "      <td>...</td>\n",
              "      <td>...</td>\n",
              "      <td>...</td>\n",
              "      <td>...</td>\n",
              "      <td>...</td>\n",
              "      <td>...</td>\n",
              "      <td>...</td>\n",
              "      <td>...</td>\n",
              "      <td>...</td>\n",
              "      <td>...</td>\n",
              "      <td>...</td>\n",
              "      <td>...</td>\n",
              "      <td>...</td>\n",
              "      <td>...</td>\n",
              "      <td>...</td>\n",
              "    </tr>\n",
              "    <tr>\n",
              "      <th>796</th>\n",
              "      <td>False</td>\n",
              "      <td>False</td>\n",
              "      <td>False</td>\n",
              "      <td>False</td>\n",
              "      <td>False</td>\n",
              "      <td>False</td>\n",
              "      <td>False</td>\n",
              "      <td>False</td>\n",
              "      <td>False</td>\n",
              "      <td>False</td>\n",
              "      <td>False</td>\n",
              "      <td>False</td>\n",
              "      <td>False</td>\n",
              "      <td>False</td>\n",
              "      <td>False</td>\n",
              "      <td>False</td>\n",
              "      <td>False</td>\n",
              "      <td>False</td>\n",
              "      <td>False</td>\n",
              "      <td>False</td>\n",
              "      <td>False</td>\n",
              "      <td>False</td>\n",
              "      <td>False</td>\n",
              "      <td>False</td>\n",
              "      <td>False</td>\n",
              "      <td>False</td>\n",
              "      <td>False</td>\n",
              "      <td>False</td>\n",
              "      <td>False</td>\n",
              "      <td>False</td>\n",
              "      <td>False</td>\n",
              "      <td>False</td>\n",
              "      <td>False</td>\n",
              "      <td>False</td>\n",
              "      <td>False</td>\n",
              "      <td>False</td>\n",
              "      <td>True</td>\n",
              "      <td>False</td>\n",
              "      <td>False</td>\n",
              "      <td>False</td>\n",
              "      <td>False</td>\n",
              "      <td>False</td>\n",
              "      <td>False</td>\n",
              "      <td>False</td>\n",
              "      <td>False</td>\n",
              "      <td>False</td>\n",
              "      <td>False</td>\n",
              "      <td>False</td>\n",
              "      <td>False</td>\n",
              "      <td>False</td>\n",
              "      <td>False</td>\n",
              "      <td>False</td>\n",
              "      <td>False</td>\n",
              "      <td>False</td>\n",
              "      <td>False</td>\n",
              "      <td>False</td>\n",
              "      <td>False</td>\n",
              "      <td>False</td>\n",
              "      <td>False</td>\n",
              "      <td>False</td>\n",
              "      <td>False</td>\n",
              "      <td>False</td>\n",
              "      <td>False</td>\n",
              "      <td>False</td>\n",
              "      <td>False</td>\n",
              "      <td>False</td>\n",
              "      <td>False</td>\n",
              "      <td>False</td>\n",
              "      <td>False</td>\n",
              "      <td>False</td>\n",
              "    </tr>\n",
              "    <tr>\n",
              "      <th>797</th>\n",
              "      <td>False</td>\n",
              "      <td>False</td>\n",
              "      <td>False</td>\n",
              "      <td>False</td>\n",
              "      <td>False</td>\n",
              "      <td>False</td>\n",
              "      <td>False</td>\n",
              "      <td>False</td>\n",
              "      <td>False</td>\n",
              "      <td>False</td>\n",
              "      <td>False</td>\n",
              "      <td>False</td>\n",
              "      <td>False</td>\n",
              "      <td>False</td>\n",
              "      <td>False</td>\n",
              "      <td>False</td>\n",
              "      <td>False</td>\n",
              "      <td>False</td>\n",
              "      <td>False</td>\n",
              "      <td>False</td>\n",
              "      <td>False</td>\n",
              "      <td>False</td>\n",
              "      <td>False</td>\n",
              "      <td>False</td>\n",
              "      <td>False</td>\n",
              "      <td>False</td>\n",
              "      <td>False</td>\n",
              "      <td>False</td>\n",
              "      <td>False</td>\n",
              "      <td>False</td>\n",
              "      <td>False</td>\n",
              "      <td>False</td>\n",
              "      <td>False</td>\n",
              "      <td>False</td>\n",
              "      <td>False</td>\n",
              "      <td>True</td>\n",
              "      <td>True</td>\n",
              "      <td>False</td>\n",
              "      <td>False</td>\n",
              "      <td>False</td>\n",
              "      <td>False</td>\n",
              "      <td>False</td>\n",
              "      <td>False</td>\n",
              "      <td>False</td>\n",
              "      <td>False</td>\n",
              "      <td>False</td>\n",
              "      <td>False</td>\n",
              "      <td>False</td>\n",
              "      <td>False</td>\n",
              "      <td>False</td>\n",
              "      <td>False</td>\n",
              "      <td>False</td>\n",
              "      <td>False</td>\n",
              "      <td>False</td>\n",
              "      <td>False</td>\n",
              "      <td>False</td>\n",
              "      <td>False</td>\n",
              "      <td>False</td>\n",
              "      <td>False</td>\n",
              "      <td>False</td>\n",
              "      <td>False</td>\n",
              "      <td>False</td>\n",
              "      <td>False</td>\n",
              "      <td>False</td>\n",
              "      <td>False</td>\n",
              "      <td>False</td>\n",
              "      <td>False</td>\n",
              "      <td>False</td>\n",
              "      <td>False</td>\n",
              "      <td>False</td>\n",
              "    </tr>\n",
              "    <tr>\n",
              "      <th>798</th>\n",
              "      <td>False</td>\n",
              "      <td>False</td>\n",
              "      <td>False</td>\n",
              "      <td>False</td>\n",
              "      <td>False</td>\n",
              "      <td>False</td>\n",
              "      <td>False</td>\n",
              "      <td>False</td>\n",
              "      <td>False</td>\n",
              "      <td>False</td>\n",
              "      <td>False</td>\n",
              "      <td>False</td>\n",
              "      <td>False</td>\n",
              "      <td>False</td>\n",
              "      <td>False</td>\n",
              "      <td>False</td>\n",
              "      <td>False</td>\n",
              "      <td>False</td>\n",
              "      <td>False</td>\n",
              "      <td>False</td>\n",
              "      <td>False</td>\n",
              "      <td>False</td>\n",
              "      <td>False</td>\n",
              "      <td>False</td>\n",
              "      <td>False</td>\n",
              "      <td>False</td>\n",
              "      <td>False</td>\n",
              "      <td>False</td>\n",
              "      <td>False</td>\n",
              "      <td>False</td>\n",
              "      <td>False</td>\n",
              "      <td>False</td>\n",
              "      <td>False</td>\n",
              "      <td>False</td>\n",
              "      <td>False</td>\n",
              "      <td>False</td>\n",
              "      <td>False</td>\n",
              "      <td>False</td>\n",
              "      <td>False</td>\n",
              "      <td>False</td>\n",
              "      <td>False</td>\n",
              "      <td>False</td>\n",
              "      <td>False</td>\n",
              "      <td>False</td>\n",
              "      <td>False</td>\n",
              "      <td>False</td>\n",
              "      <td>False</td>\n",
              "      <td>False</td>\n",
              "      <td>False</td>\n",
              "      <td>False</td>\n",
              "      <td>False</td>\n",
              "      <td>False</td>\n",
              "      <td>False</td>\n",
              "      <td>False</td>\n",
              "      <td>False</td>\n",
              "      <td>False</td>\n",
              "      <td>False</td>\n",
              "      <td>False</td>\n",
              "      <td>False</td>\n",
              "      <td>False</td>\n",
              "      <td>False</td>\n",
              "      <td>False</td>\n",
              "      <td>False</td>\n",
              "      <td>False</td>\n",
              "      <td>False</td>\n",
              "      <td>False</td>\n",
              "      <td>False</td>\n",
              "      <td>False</td>\n",
              "      <td>False</td>\n",
              "      <td>False</td>\n",
              "    </tr>\n",
              "    <tr>\n",
              "      <th>799</th>\n",
              "      <td>False</td>\n",
              "      <td>False</td>\n",
              "      <td>False</td>\n",
              "      <td>False</td>\n",
              "      <td>False</td>\n",
              "      <td>False</td>\n",
              "      <td>False</td>\n",
              "      <td>False</td>\n",
              "      <td>False</td>\n",
              "      <td>False</td>\n",
              "      <td>False</td>\n",
              "      <td>False</td>\n",
              "      <td>False</td>\n",
              "      <td>False</td>\n",
              "      <td>False</td>\n",
              "      <td>False</td>\n",
              "      <td>False</td>\n",
              "      <td>False</td>\n",
              "      <td>False</td>\n",
              "      <td>False</td>\n",
              "      <td>False</td>\n",
              "      <td>False</td>\n",
              "      <td>False</td>\n",
              "      <td>False</td>\n",
              "      <td>False</td>\n",
              "      <td>False</td>\n",
              "      <td>False</td>\n",
              "      <td>False</td>\n",
              "      <td>False</td>\n",
              "      <td>False</td>\n",
              "      <td>False</td>\n",
              "      <td>False</td>\n",
              "      <td>False</td>\n",
              "      <td>False</td>\n",
              "      <td>False</td>\n",
              "      <td>False</td>\n",
              "      <td>True</td>\n",
              "      <td>False</td>\n",
              "      <td>False</td>\n",
              "      <td>False</td>\n",
              "      <td>False</td>\n",
              "      <td>False</td>\n",
              "      <td>False</td>\n",
              "      <td>False</td>\n",
              "      <td>False</td>\n",
              "      <td>False</td>\n",
              "      <td>False</td>\n",
              "      <td>False</td>\n",
              "      <td>False</td>\n",
              "      <td>False</td>\n",
              "      <td>False</td>\n",
              "      <td>False</td>\n",
              "      <td>False</td>\n",
              "      <td>False</td>\n",
              "      <td>False</td>\n",
              "      <td>False</td>\n",
              "      <td>False</td>\n",
              "      <td>False</td>\n",
              "      <td>False</td>\n",
              "      <td>False</td>\n",
              "      <td>False</td>\n",
              "      <td>False</td>\n",
              "      <td>False</td>\n",
              "      <td>False</td>\n",
              "      <td>False</td>\n",
              "      <td>False</td>\n",
              "      <td>False</td>\n",
              "      <td>False</td>\n",
              "      <td>False</td>\n",
              "      <td>False</td>\n",
              "    </tr>\n",
              "    <tr>\n",
              "      <th>800</th>\n",
              "      <td>False</td>\n",
              "      <td>False</td>\n",
              "      <td>False</td>\n",
              "      <td>False</td>\n",
              "      <td>False</td>\n",
              "      <td>False</td>\n",
              "      <td>False</td>\n",
              "      <td>False</td>\n",
              "      <td>False</td>\n",
              "      <td>False</td>\n",
              "      <td>False</td>\n",
              "      <td>False</td>\n",
              "      <td>False</td>\n",
              "      <td>False</td>\n",
              "      <td>False</td>\n",
              "      <td>False</td>\n",
              "      <td>False</td>\n",
              "      <td>False</td>\n",
              "      <td>False</td>\n",
              "      <td>False</td>\n",
              "      <td>False</td>\n",
              "      <td>False</td>\n",
              "      <td>False</td>\n",
              "      <td>False</td>\n",
              "      <td>False</td>\n",
              "      <td>False</td>\n",
              "      <td>False</td>\n",
              "      <td>False</td>\n",
              "      <td>False</td>\n",
              "      <td>False</td>\n",
              "      <td>False</td>\n",
              "      <td>False</td>\n",
              "      <td>False</td>\n",
              "      <td>False</td>\n",
              "      <td>False</td>\n",
              "      <td>False</td>\n",
              "      <td>True</td>\n",
              "      <td>False</td>\n",
              "      <td>False</td>\n",
              "      <td>False</td>\n",
              "      <td>False</td>\n",
              "      <td>False</td>\n",
              "      <td>False</td>\n",
              "      <td>False</td>\n",
              "      <td>False</td>\n",
              "      <td>False</td>\n",
              "      <td>False</td>\n",
              "      <td>False</td>\n",
              "      <td>False</td>\n",
              "      <td>False</td>\n",
              "      <td>False</td>\n",
              "      <td>False</td>\n",
              "      <td>False</td>\n",
              "      <td>False</td>\n",
              "      <td>False</td>\n",
              "      <td>False</td>\n",
              "      <td>False</td>\n",
              "      <td>False</td>\n",
              "      <td>False</td>\n",
              "      <td>False</td>\n",
              "      <td>False</td>\n",
              "      <td>False</td>\n",
              "      <td>False</td>\n",
              "      <td>False</td>\n",
              "      <td>False</td>\n",
              "      <td>False</td>\n",
              "      <td>False</td>\n",
              "      <td>False</td>\n",
              "      <td>False</td>\n",
              "      <td>False</td>\n",
              "    </tr>\n",
              "  </tbody>\n",
              "</table>\n",
              "<p>801 rows × 70 columns</p>\n",
              "</div>"
            ],
            "text/plain": [
              "     household_id    age  ...  isChurned  most_freq_camp_type\n",
              "0           False  False  ...      False                False\n",
              "1           False  False  ...      False                False\n",
              "2           False  False  ...      False                False\n",
              "3           False  False  ...      False                False\n",
              "4           False  False  ...      False                False\n",
              "..            ...    ...  ...        ...                  ...\n",
              "796         False  False  ...      False                False\n",
              "797         False  False  ...      False                False\n",
              "798         False  False  ...      False                False\n",
              "799         False  False  ...      False                False\n",
              "800         False  False  ...      False                False\n",
              "\n",
              "[801 rows x 70 columns]"
            ]
          },
          "metadata": {
            "tags": []
          },
          "execution_count": 59
        }
      ]
    },
    {
      "cell_type": "code",
      "metadata": {
        "id": "ny3FhcUkcXah",
        "colab_type": "code",
        "outputId": "e0fb1482-4df6-4373-e53a-17fcca6af1a9",
        "colab": {
          "base_uri": "https://localhost:8080/",
          "height": 34
        }
      },
      "source": [
        "#Based on checking the new data set, we have missing values for our data, hence, we need to take care of it. \n",
        "#For simplicity, we are checking which feature has data missing \n",
        "[col for col in pml.columns if pml[col].isnull().any()]"
      ],
      "execution_count": 60,
      "outputs": [
        {
          "output_type": "execute_result",
          "data": {
            "text/plain": [
              "['no_of_received_campaigns', 'no_of_redeems']"
            ]
          },
          "metadata": {
            "tags": []
          },
          "execution_count": 60
        }
      ]
    },
    {
      "cell_type": "code",
      "metadata": {
        "scrolled": true,
        "id": "OyBgf-sWcXak",
        "colab_type": "code",
        "outputId": "1670b0f3-3c11-480b-91a3-38ffd3c1d842",
        "colab": {
          "base_uri": "https://localhost:8080/",
          "height": 70
        }
      },
      "source": [
        "#store number of missing values per column as Series object as GM1\n",
        "pmll = pml.isnull().sum()\n",
        "\n",
        "#filter out and sort columns with missing value\n",
        "pmll[pmll>=0].sort_values(ascending=False)\n",
        "\n",
        "#the same in percentages\n",
        "pmll[pmll>0].sort_values(ascending=False) / len(pml) * 100"
      ],
      "execution_count": 61,
      "outputs": [
        {
          "output_type": "execute_result",
          "data": {
            "text/plain": [
              "no_of_redeems               63.171036\n",
              "no_of_received_campaigns     5.617978\n",
              "dtype: float64"
            ]
          },
          "metadata": {
            "tags": []
          },
          "execution_count": 61
        }
      ]
    },
    {
      "cell_type": "markdown",
      "metadata": {
        "id": "LI47Ujr3mJd4",
        "colab_type": "text"
      },
      "source": [
        "As we can see, No of Redeems is having 63% missing values. We need to take care of missing variables"
      ]
    },
    {
      "cell_type": "code",
      "metadata": {
        "id": "oqsqj_jpcXap",
        "colab_type": "code",
        "colab": {}
      },
      "source": [
        "#Taking care of missing values and change NaN or None/Unknown values to zero...\n",
        "            ##for the columns of \"number of received campaigns\" and the \"number of redeems\".\n",
        "pml.kids_count.replace([\"3+\"],[3],inplace=True)\n",
        "pml.kids_count = pml.kids_count.astype(int)    \n",
        "pml.no_of_received_campaigns.replace(np.nan,0,inplace=True)\n",
        "pml.no_of_received_campaigns = pml.no_of_received_campaigns.astype(int)\n",
        "pml.no_of_redeems.replace(np.nan,0,inplace=True)"
      ],
      "execution_count": 0,
      "outputs": []
    },
    {
      "cell_type": "code",
      "metadata": {
        "id": "Ou09vem1cXas",
        "colab_type": "code",
        "outputId": "3092ee85-0aa8-4a95-c778-7dccdafcad4a",
        "colab": {
          "base_uri": "https://localhost:8080/",
          "height": 1000
        }
      },
      "source": [
        "#Checking the New Dataset -- #We don't have any missing values\n",
        "pml.info()"
      ],
      "execution_count": 63,
      "outputs": [
        {
          "output_type": "stream",
          "text": [
            "<class 'pandas.core.frame.DataFrame'>\n",
            "RangeIndex: 801 entries, 0 to 800\n",
            "Data columns (total 70 columns):\n",
            " #   Column                    Non-Null Count  Dtype  \n",
            "---  ------                    --------------  -----  \n",
            " 0   household_id              801 non-null    int64  \n",
            " 1   age                       801 non-null    object \n",
            " 2   income                    801 non-null    object \n",
            " 3   home_ownership            801 non-null    object \n",
            " 4   marital_status            801 non-null    object \n",
            " 5   household_size            801 non-null    object \n",
            " 6   household_comp            801 non-null    object \n",
            " 7   kids_count                801 non-null    int64  \n",
            " 8   Camp_1                    801 non-null    int64  \n",
            " 9   Camp_2                    801 non-null    int64  \n",
            " 10  Camp_3                    801 non-null    int64  \n",
            " 11  Camp_4                    801 non-null    int64  \n",
            " 12  Camp_5                    801 non-null    int64  \n",
            " 13  Camp_6                    801 non-null    int64  \n",
            " 14  Camp_7                    801 non-null    int64  \n",
            " 15  Camp_8                    801 non-null    int64  \n",
            " 16  Camp_9                    801 non-null    int64  \n",
            " 17  Camp_10                   801 non-null    int64  \n",
            " 18  Camp_11                   801 non-null    int64  \n",
            " 19  Camp_12                   801 non-null    int64  \n",
            " 20  Camp_13                   801 non-null    int64  \n",
            " 21  Camp_14                   801 non-null    int64  \n",
            " 22  Camp_15                   801 non-null    int64  \n",
            " 23  Camp_16                   801 non-null    int64  \n",
            " 24  Camp_17                   801 non-null    int64  \n",
            " 25  Camp_18                   801 non-null    int64  \n",
            " 26  Camp_19                   801 non-null    int64  \n",
            " 27  Camp_20                   801 non-null    int64  \n",
            " 28  Camp_21                   801 non-null    int64  \n",
            " 29  Camp_22                   801 non-null    int64  \n",
            " 30  Camp_23                   801 non-null    int64  \n",
            " 31  Camp_24                   801 non-null    int64  \n",
            " 32  Camp_25                   801 non-null    int64  \n",
            " 33  Camp_26                   801 non-null    int64  \n",
            " 34  Camp_27                   801 non-null    int64  \n",
            " 35  no_of_received_campaigns  801 non-null    int64  \n",
            " 36  no_of_redeems             801 non-null    float64\n",
            " 37  Store_367                 801 non-null    int64  \n",
            " 38  Store_31862               801 non-null    int64  \n",
            " 39  Store_381                 801 non-null    int64  \n",
            " 40  Store_375                 801 non-null    int64  \n",
            " 41  Store_317                 801 non-null    int64  \n",
            " 42  Store_388                 801 non-null    int64  \n",
            " 43  Store_433                 801 non-null    int64  \n",
            " 44  Store_412                 801 non-null    int64  \n",
            " 45  Store_432                 801 non-null    int64  \n",
            " 46  Store_396                 801 non-null    int64  \n",
            " 47  Store_446                 801 non-null    int64  \n",
            " 48  Store_319                 801 non-null    int64  \n",
            " 49  Store_369                 801 non-null    int64  \n",
            " 50  Store_450                 801 non-null    int64  \n",
            " 51  Store_330                 801 non-null    int64  \n",
            " 52  Store_31582               801 non-null    int64  \n",
            " 53  Store_31642               801 non-null    int64  \n",
            " 54  Store_372                 801 non-null    int64  \n",
            " 55  Store_402                 801 non-null    int64  \n",
            " 56  Store_400                 801 non-null    int64  \n",
            " 57  Store_361                 801 non-null    int64  \n",
            " 58  Store_34011               801 non-null    int64  \n",
            " 59  Store_335                 801 non-null    int64  \n",
            " 60  Store_318                 801 non-null    int64  \n",
            " 61  Store_316                 801 non-null    int64  \n",
            " 62  Store_445                 801 non-null    int64  \n",
            " 63  Store_292                 801 non-null    int64  \n",
            " 64  Store_329                 801 non-null    int64  \n",
            " 65  Store_363                 801 non-null    int64  \n",
            " 66  Store_324                 801 non-null    int64  \n",
            " 67  Total Purchase (USD)      801 non-null    float64\n",
            " 68  isChurned                 801 non-null    bool   \n",
            " 69  most_freq_camp_type       801 non-null    object \n",
            "dtypes: bool(1), float64(2), int64(60), object(7)\n",
            "memory usage: 432.7+ KB\n"
          ],
          "name": "stdout"
        }
      ]
    },
    {
      "cell_type": "code",
      "metadata": {
        "id": "L-HvpEgwcXav",
        "colab_type": "code",
        "outputId": "999ad740-e522-40ea-d295-14de2033c99b",
        "colab": {
          "base_uri": "https://localhost:8080/",
          "height": 317
        }
      },
      "source": [
        "pml.head()"
      ],
      "execution_count": 64,
      "outputs": [
        {
          "output_type": "execute_result",
          "data": {
            "text/html": [
              "<div>\n",
              "<style scoped>\n",
              "    .dataframe tbody tr th:only-of-type {\n",
              "        vertical-align: middle;\n",
              "    }\n",
              "\n",
              "    .dataframe tbody tr th {\n",
              "        vertical-align: top;\n",
              "    }\n",
              "\n",
              "    .dataframe thead th {\n",
              "        text-align: right;\n",
              "    }\n",
              "</style>\n",
              "<table border=\"1\" class=\"dataframe\">\n",
              "  <thead>\n",
              "    <tr style=\"text-align: right;\">\n",
              "      <th></th>\n",
              "      <th>household_id</th>\n",
              "      <th>age</th>\n",
              "      <th>income</th>\n",
              "      <th>home_ownership</th>\n",
              "      <th>marital_status</th>\n",
              "      <th>household_size</th>\n",
              "      <th>household_comp</th>\n",
              "      <th>kids_count</th>\n",
              "      <th>Camp_1</th>\n",
              "      <th>Camp_2</th>\n",
              "      <th>Camp_3</th>\n",
              "      <th>Camp_4</th>\n",
              "      <th>Camp_5</th>\n",
              "      <th>Camp_6</th>\n",
              "      <th>Camp_7</th>\n",
              "      <th>Camp_8</th>\n",
              "      <th>Camp_9</th>\n",
              "      <th>Camp_10</th>\n",
              "      <th>Camp_11</th>\n",
              "      <th>Camp_12</th>\n",
              "      <th>Camp_13</th>\n",
              "      <th>Camp_14</th>\n",
              "      <th>Camp_15</th>\n",
              "      <th>Camp_16</th>\n",
              "      <th>Camp_17</th>\n",
              "      <th>Camp_18</th>\n",
              "      <th>Camp_19</th>\n",
              "      <th>Camp_20</th>\n",
              "      <th>Camp_21</th>\n",
              "      <th>Camp_22</th>\n",
              "      <th>Camp_23</th>\n",
              "      <th>Camp_24</th>\n",
              "      <th>Camp_25</th>\n",
              "      <th>Camp_26</th>\n",
              "      <th>Camp_27</th>\n",
              "      <th>no_of_received_campaigns</th>\n",
              "      <th>no_of_redeems</th>\n",
              "      <th>Store_367</th>\n",
              "      <th>Store_31862</th>\n",
              "      <th>Store_381</th>\n",
              "      <th>Store_375</th>\n",
              "      <th>Store_317</th>\n",
              "      <th>Store_388</th>\n",
              "      <th>Store_433</th>\n",
              "      <th>Store_412</th>\n",
              "      <th>Store_432</th>\n",
              "      <th>Store_396</th>\n",
              "      <th>Store_446</th>\n",
              "      <th>Store_319</th>\n",
              "      <th>Store_369</th>\n",
              "      <th>Store_450</th>\n",
              "      <th>Store_330</th>\n",
              "      <th>Store_31582</th>\n",
              "      <th>Store_31642</th>\n",
              "      <th>Store_372</th>\n",
              "      <th>Store_402</th>\n",
              "      <th>Store_400</th>\n",
              "      <th>Store_361</th>\n",
              "      <th>Store_34011</th>\n",
              "      <th>Store_335</th>\n",
              "      <th>Store_318</th>\n",
              "      <th>Store_316</th>\n",
              "      <th>Store_445</th>\n",
              "      <th>Store_292</th>\n",
              "      <th>Store_329</th>\n",
              "      <th>Store_363</th>\n",
              "      <th>Store_324</th>\n",
              "      <th>Total Purchase (USD)</th>\n",
              "      <th>isChurned</th>\n",
              "      <th>most_freq_camp_type</th>\n",
              "    </tr>\n",
              "  </thead>\n",
              "  <tbody>\n",
              "    <tr>\n",
              "      <th>0</th>\n",
              "      <td>1</td>\n",
              "      <td>65+</td>\n",
              "      <td>35-49K</td>\n",
              "      <td>Homeowner</td>\n",
              "      <td>Married</td>\n",
              "      <td>2</td>\n",
              "      <td>2 Adults No Kids</td>\n",
              "      <td>0</td>\n",
              "      <td>0</td>\n",
              "      <td>0</td>\n",
              "      <td>0</td>\n",
              "      <td>0</td>\n",
              "      <td>0</td>\n",
              "      <td>0</td>\n",
              "      <td>0</td>\n",
              "      <td>1</td>\n",
              "      <td>0</td>\n",
              "      <td>0</td>\n",
              "      <td>0</td>\n",
              "      <td>1</td>\n",
              "      <td>1</td>\n",
              "      <td>0</td>\n",
              "      <td>0</td>\n",
              "      <td>0</td>\n",
              "      <td>0</td>\n",
              "      <td>1</td>\n",
              "      <td>0</td>\n",
              "      <td>1</td>\n",
              "      <td>0</td>\n",
              "      <td>1</td>\n",
              "      <td>1</td>\n",
              "      <td>0</td>\n",
              "      <td>0</td>\n",
              "      <td>1</td>\n",
              "      <td>0</td>\n",
              "      <td>8</td>\n",
              "      <td>5.0</td>\n",
              "      <td>0</td>\n",
              "      <td>0</td>\n",
              "      <td>0</td>\n",
              "      <td>0</td>\n",
              "      <td>0</td>\n",
              "      <td>0</td>\n",
              "      <td>0</td>\n",
              "      <td>0</td>\n",
              "      <td>0</td>\n",
              "      <td>0</td>\n",
              "      <td>0</td>\n",
              "      <td>0</td>\n",
              "      <td>0</td>\n",
              "      <td>0</td>\n",
              "      <td>0</td>\n",
              "      <td>0</td>\n",
              "      <td>0</td>\n",
              "      <td>0</td>\n",
              "      <td>0</td>\n",
              "      <td>0</td>\n",
              "      <td>0</td>\n",
              "      <td>0</td>\n",
              "      <td>0</td>\n",
              "      <td>0</td>\n",
              "      <td>0</td>\n",
              "      <td>0</td>\n",
              "      <td>0</td>\n",
              "      <td>0</td>\n",
              "      <td>0</td>\n",
              "      <td>0</td>\n",
              "      <td>2415.56</td>\n",
              "      <td>False</td>\n",
              "      <td>Type B</td>\n",
              "    </tr>\n",
              "    <tr>\n",
              "      <th>1</th>\n",
              "      <td>1001</td>\n",
              "      <td>45-54</td>\n",
              "      <td>50-74K</td>\n",
              "      <td>Homeowner</td>\n",
              "      <td>Unmarried</td>\n",
              "      <td>1</td>\n",
              "      <td>1 Adult No Kids</td>\n",
              "      <td>0</td>\n",
              "      <td>0</td>\n",
              "      <td>0</td>\n",
              "      <td>0</td>\n",
              "      <td>0</td>\n",
              "      <td>0</td>\n",
              "      <td>0</td>\n",
              "      <td>0</td>\n",
              "      <td>0</td>\n",
              "      <td>0</td>\n",
              "      <td>0</td>\n",
              "      <td>0</td>\n",
              "      <td>0</td>\n",
              "      <td>0</td>\n",
              "      <td>0</td>\n",
              "      <td>0</td>\n",
              "      <td>0</td>\n",
              "      <td>1</td>\n",
              "      <td>1</td>\n",
              "      <td>0</td>\n",
              "      <td>0</td>\n",
              "      <td>0</td>\n",
              "      <td>0</td>\n",
              "      <td>0</td>\n",
              "      <td>0</td>\n",
              "      <td>0</td>\n",
              "      <td>0</td>\n",
              "      <td>1</td>\n",
              "      <td>3</td>\n",
              "      <td>0.0</td>\n",
              "      <td>0</td>\n",
              "      <td>0</td>\n",
              "      <td>0</td>\n",
              "      <td>0</td>\n",
              "      <td>0</td>\n",
              "      <td>0</td>\n",
              "      <td>0</td>\n",
              "      <td>0</td>\n",
              "      <td>0</td>\n",
              "      <td>0</td>\n",
              "      <td>0</td>\n",
              "      <td>0</td>\n",
              "      <td>0</td>\n",
              "      <td>0</td>\n",
              "      <td>0</td>\n",
              "      <td>0</td>\n",
              "      <td>0</td>\n",
              "      <td>0</td>\n",
              "      <td>0</td>\n",
              "      <td>0</td>\n",
              "      <td>0</td>\n",
              "      <td>0</td>\n",
              "      <td>0</td>\n",
              "      <td>0</td>\n",
              "      <td>0</td>\n",
              "      <td>0</td>\n",
              "      <td>0</td>\n",
              "      <td>0</td>\n",
              "      <td>0</td>\n",
              "      <td>0</td>\n",
              "      <td>2558.82</td>\n",
              "      <td>False</td>\n",
              "      <td>Type A</td>\n",
              "    </tr>\n",
              "    <tr>\n",
              "      <th>2</th>\n",
              "      <td>1003</td>\n",
              "      <td>35-44</td>\n",
              "      <td>25-34K</td>\n",
              "      <td>Probable Renter</td>\n",
              "      <td>Unmarried</td>\n",
              "      <td>1</td>\n",
              "      <td>1 Adult No Kids</td>\n",
              "      <td>0</td>\n",
              "      <td>0</td>\n",
              "      <td>0</td>\n",
              "      <td>0</td>\n",
              "      <td>0</td>\n",
              "      <td>0</td>\n",
              "      <td>0</td>\n",
              "      <td>0</td>\n",
              "      <td>0</td>\n",
              "      <td>0</td>\n",
              "      <td>0</td>\n",
              "      <td>0</td>\n",
              "      <td>0</td>\n",
              "      <td>0</td>\n",
              "      <td>0</td>\n",
              "      <td>0</td>\n",
              "      <td>0</td>\n",
              "      <td>0</td>\n",
              "      <td>0</td>\n",
              "      <td>0</td>\n",
              "      <td>0</td>\n",
              "      <td>0</td>\n",
              "      <td>0</td>\n",
              "      <td>0</td>\n",
              "      <td>0</td>\n",
              "      <td>0</td>\n",
              "      <td>0</td>\n",
              "      <td>1</td>\n",
              "      <td>1</td>\n",
              "      <td>0.0</td>\n",
              "      <td>0</td>\n",
              "      <td>0</td>\n",
              "      <td>0</td>\n",
              "      <td>0</td>\n",
              "      <td>0</td>\n",
              "      <td>0</td>\n",
              "      <td>0</td>\n",
              "      <td>0</td>\n",
              "      <td>0</td>\n",
              "      <td>0</td>\n",
              "      <td>0</td>\n",
              "      <td>0</td>\n",
              "      <td>0</td>\n",
              "      <td>0</td>\n",
              "      <td>1</td>\n",
              "      <td>0</td>\n",
              "      <td>0</td>\n",
              "      <td>0</td>\n",
              "      <td>0</td>\n",
              "      <td>0</td>\n",
              "      <td>0</td>\n",
              "      <td>0</td>\n",
              "      <td>0</td>\n",
              "      <td>0</td>\n",
              "      <td>0</td>\n",
              "      <td>0</td>\n",
              "      <td>0</td>\n",
              "      <td>0</td>\n",
              "      <td>0</td>\n",
              "      <td>0</td>\n",
              "      <td>1404.43</td>\n",
              "      <td>True</td>\n",
              "      <td>Type A</td>\n",
              "    </tr>\n",
              "    <tr>\n",
              "      <th>3</th>\n",
              "      <td>1004</td>\n",
              "      <td>25-34</td>\n",
              "      <td>15-24K</td>\n",
              "      <td>Probable Renter</td>\n",
              "      <td>Unmarried</td>\n",
              "      <td>1</td>\n",
              "      <td>1 Adult No Kids</td>\n",
              "      <td>0</td>\n",
              "      <td>0</td>\n",
              "      <td>0</td>\n",
              "      <td>0</td>\n",
              "      <td>0</td>\n",
              "      <td>0</td>\n",
              "      <td>0</td>\n",
              "      <td>1</td>\n",
              "      <td>1</td>\n",
              "      <td>1</td>\n",
              "      <td>0</td>\n",
              "      <td>0</td>\n",
              "      <td>0</td>\n",
              "      <td>1</td>\n",
              "      <td>0</td>\n",
              "      <td>0</td>\n",
              "      <td>0</td>\n",
              "      <td>0</td>\n",
              "      <td>1</td>\n",
              "      <td>0</td>\n",
              "      <td>0</td>\n",
              "      <td>0</td>\n",
              "      <td>0</td>\n",
              "      <td>0</td>\n",
              "      <td>0</td>\n",
              "      <td>0</td>\n",
              "      <td>0</td>\n",
              "      <td>0</td>\n",
              "      <td>5</td>\n",
              "      <td>0.0</td>\n",
              "      <td>0</td>\n",
              "      <td>0</td>\n",
              "      <td>1</td>\n",
              "      <td>0</td>\n",
              "      <td>0</td>\n",
              "      <td>0</td>\n",
              "      <td>0</td>\n",
              "      <td>1</td>\n",
              "      <td>0</td>\n",
              "      <td>0</td>\n",
              "      <td>0</td>\n",
              "      <td>1</td>\n",
              "      <td>0</td>\n",
              "      <td>0</td>\n",
              "      <td>0</td>\n",
              "      <td>0</td>\n",
              "      <td>0</td>\n",
              "      <td>1</td>\n",
              "      <td>0</td>\n",
              "      <td>0</td>\n",
              "      <td>0</td>\n",
              "      <td>0</td>\n",
              "      <td>0</td>\n",
              "      <td>0</td>\n",
              "      <td>1</td>\n",
              "      <td>1</td>\n",
              "      <td>1</td>\n",
              "      <td>0</td>\n",
              "      <td>0</td>\n",
              "      <td>0</td>\n",
              "      <td>2486.93</td>\n",
              "      <td>False</td>\n",
              "      <td>Type A</td>\n",
              "    </tr>\n",
              "    <tr>\n",
              "      <th>4</th>\n",
              "      <td>101</td>\n",
              "      <td>45-54</td>\n",
              "      <td>Under 15K</td>\n",
              "      <td>Homeowner</td>\n",
              "      <td>Married</td>\n",
              "      <td>4</td>\n",
              "      <td>2 Adults Kids</td>\n",
              "      <td>2</td>\n",
              "      <td>0</td>\n",
              "      <td>0</td>\n",
              "      <td>0</td>\n",
              "      <td>0</td>\n",
              "      <td>0</td>\n",
              "      <td>0</td>\n",
              "      <td>0</td>\n",
              "      <td>1</td>\n",
              "      <td>0</td>\n",
              "      <td>0</td>\n",
              "      <td>1</td>\n",
              "      <td>0</td>\n",
              "      <td>1</td>\n",
              "      <td>0</td>\n",
              "      <td>0</td>\n",
              "      <td>0</td>\n",
              "      <td>0</td>\n",
              "      <td>1</td>\n",
              "      <td>0</td>\n",
              "      <td>0</td>\n",
              "      <td>0</td>\n",
              "      <td>0</td>\n",
              "      <td>0</td>\n",
              "      <td>0</td>\n",
              "      <td>0</td>\n",
              "      <td>0</td>\n",
              "      <td>0</td>\n",
              "      <td>4</td>\n",
              "      <td>5.0</td>\n",
              "      <td>0</td>\n",
              "      <td>0</td>\n",
              "      <td>0</td>\n",
              "      <td>0</td>\n",
              "      <td>0</td>\n",
              "      <td>0</td>\n",
              "      <td>0</td>\n",
              "      <td>0</td>\n",
              "      <td>0</td>\n",
              "      <td>0</td>\n",
              "      <td>0</td>\n",
              "      <td>0</td>\n",
              "      <td>0</td>\n",
              "      <td>0</td>\n",
              "      <td>0</td>\n",
              "      <td>0</td>\n",
              "      <td>0</td>\n",
              "      <td>0</td>\n",
              "      <td>0</td>\n",
              "      <td>0</td>\n",
              "      <td>0</td>\n",
              "      <td>0</td>\n",
              "      <td>0</td>\n",
              "      <td>0</td>\n",
              "      <td>0</td>\n",
              "      <td>0</td>\n",
              "      <td>1</td>\n",
              "      <td>0</td>\n",
              "      <td>0</td>\n",
              "      <td>0</td>\n",
              "      <td>4483.35</td>\n",
              "      <td>False</td>\n",
              "      <td>Type A</td>\n",
              "    </tr>\n",
              "  </tbody>\n",
              "</table>\n",
              "</div>"
            ],
            "text/plain": [
              "   household_id    age  ... isChurned most_freq_camp_type\n",
              "0             1    65+  ...     False              Type B\n",
              "1          1001  45-54  ...     False              Type A\n",
              "2          1003  35-44  ...      True              Type A\n",
              "3          1004  25-34  ...     False              Type A\n",
              "4           101  45-54  ...     False              Type A\n",
              "\n",
              "[5 rows x 70 columns]"
            ]
          },
          "metadata": {
            "tags": []
          },
          "execution_count": 64
        }
      ]
    },
    {
      "cell_type": "code",
      "metadata": {
        "id": "4gJNu2-ycXay",
        "colab_type": "code",
        "colab": {}
      },
      "source": [
        "#Change other object type elements in the columns to integer for modeling purpose\n",
        "\n",
        "pml.household_size.replace(\"5+\",5,inplace=True)\n",
        "pml.household_size = pml.household_size.astype(int)\n",
        "pml[\"Total Purchase (USD)\"] = pml[\"Total Purchase (USD)\"].astype(int)"
      ],
      "execution_count": 0,
      "outputs": []
    },
    {
      "cell_type": "markdown",
      "metadata": {
        "id": "NOtalZe5me0V",
        "colab_type": "text"
      },
      "source": [
        "#Now We are checking how our features interact with the target variable.\n"
      ]
    },
    {
      "cell_type": "code",
      "metadata": {
        "id": "xS-MrM13cXa0",
        "colab_type": "code",
        "outputId": "1765f32c-bd40-4f54-f8c9-3b0ba95d4115",
        "colab": {
          "base_uri": "https://localhost:8080/",
          "height": 278
        }
      },
      "source": [
        "ax = sns.barplot(x=\"age\",y=\"isChurned\",data=pml,order=[\"19-24\",\"25-34\",\"35-44\",\"45-54\",\"55-64\",\"65+\"])\n",
        "ax.axhline(y=pml.isChurned.sum()/len(pml),c=\"red\",label=\"population mean\")\n",
        "ax.legend()\n",
        "plt.show()"
      ],
      "execution_count": 66,
      "outputs": [
        {
          "output_type": "display_data",
          "data": {
            "image/png": "[encoded data removed]",
            "text/plain": [
              "<Figure size 432x288 with 1 Axes>"
            ]
          },
          "metadata": {
            "tags": [],
            "needs_background": "light"
          }
        }
      ]
    },
    {
      "cell_type": "markdown",
      "metadata": {
        "id": "uh19GAhImxWM",
        "colab_type": "text"
      },
      "source": [
        "Households within the age of **35-44** tend to churn less then the rest of other age groups\n",
        "It also indicates that age group of **19-24** tend to churn more."
      ]
    },
    {
      "cell_type": "code",
      "metadata": {
        "id": "TK9MgmZHcXa6",
        "colab_type": "code",
        "outputId": "66222837-b783-4150-cbb3-aa48c4b4a2a1",
        "colab": {
          "base_uri": "https://localhost:8080/",
          "height": 280
        }
      },
      "source": [
        "ax = sns.barplot(x=\"marital_status\",y=\"isChurned\",data=pml,order=[\"Married\",\"Unmarried\"])\n",
        "ax.axhline(y=pml.isChurned.sum()/len(pml),c=\"red\",label=\"population mean\")\n",
        "ax.legend()\n",
        "plt.show()"
      ],
      "execution_count": 67,
      "outputs": [
        {
          "output_type": "display_data",
          "data": {
            "image/png": "[encoded data removed]",
            "text/plain": [
              "<Figure size 432x288 with 1 Axes>"
            ]
          },
          "metadata": {
            "tags": [],
            "needs_background": "light"
          }
        }
      ]
    },
    {
      "cell_type": "markdown",
      "metadata": {
        "id": "HMWs6OMCo6wW",
        "colab_type": "text"
      },
      "source": [
        "Marital Status vs Churn Rate:\n",
        "\n",
        "Married couples tend to churn more compared to singles; they seems to increase the churn rate of the whole of the population"
      ]
    },
    {
      "cell_type": "code",
      "metadata": {
        "id": "EPvSJHy9cXa_",
        "colab_type": "code",
        "outputId": "8cc26177-6f60-4e5a-eda0-0cd51c24abd7",
        "colab": {
          "base_uri": "https://localhost:8080/",
          "height": 367
        }
      },
      "source": [
        "fig = plt.figure(figsize=(8,5))\n",
        "ax = sns.barplot(x=\"income\",y=\"isChurned\",data=pml,\n",
        "                 order=[\"Under 15K\",\"15-24K\",\"25-34K\",\"35-49K\",\"50-74K\",\"75-99K\",\"100-124K\",\"125-149K\",\"150-174K\",\"175-199K\",\"200-249K\",\"250K+\"])\n",
        "ax.set_xticklabels(ax.get_xticklabels(),rotation=45)\n",
        "ax.axhline(y=pml.isChurned.sum()/len(pml),c=\"red\",label=\"population mean\")\n",
        "ax.legend()\n",
        "plt.show()"
      ],
      "execution_count": 68,
      "outputs": [
        {
          "output_type": "display_data",
          "data": {
            "image/png": "[encoded data removed]",
            "text/plain": [
              "<Figure size 576x360 with 1 Axes>"
            ]
          },
          "metadata": {
            "tags": [],
            "needs_background": "light"
          }
        }
      ]
    },
    {
      "cell_type": "markdown",
      "metadata": {
        "id": "iIiIg0btpbb_",
        "colab_type": "text"
      },
      "source": [
        "Income vs Churn Rate:\n",
        "\n",
        "Based on the results, households whose income are higher churnout more. People from the following bracket churn more often:\n",
        "1.   Under 15k\n",
        "2.   125k-149k\n",
        "3.   200-249k\n",
        "4.   250k and over\n",
        "\n",
        "\n",
        "\n",
        "\n"
      ]
    },
    {
      "cell_type": "code",
      "metadata": {
        "id": "QJD5hgMNcXbC",
        "colab_type": "code",
        "outputId": "2b3d2ec7-55ca-452a-f1f2-ce92689ad222",
        "colab": {
          "base_uri": "https://localhost:8080/",
          "height": 278
        }
      },
      "source": [
        "ax = sns.barplot(y=\"home_ownership\",x=\"isChurned\",data=pml,orient=\"h\")\n",
        "ax.axvline(x=pml.isChurned.sum()/len(pml),c=\"red\",label=\"population mean\")\n",
        "ax.legend()\n",
        "plt.show()"
      ],
      "execution_count": 69,
      "outputs": [
        {
          "output_type": "display_data",
          "data": {
            "image/png": "[encoded data removed]",
            "text/plain": [
              "<Figure size 432x288 with 1 Axes>"
            ]
          },
          "metadata": {
            "tags": [],
            "needs_background": "light"
          }
        }
      ]
    },
    {
      "cell_type": "markdown",
      "metadata": {
        "id": "GGC_fC8csNmI",
        "colab_type": "text"
      },
      "source": [
        "Home Ownership vs Churn Rate:\n",
        "\n",
        "Households who own a home churnout more. "
      ]
    },
    {
      "cell_type": "code",
      "metadata": {
        "id": "T0XTTZLwcXbF",
        "colab_type": "code",
        "outputId": "74d1a4a3-a8ae-49a4-ca60-64042da10dda",
        "colab": {
          "base_uri": "https://localhost:8080/",
          "height": 278
        }
      },
      "source": [
        "ax = sns.barplot(y=pd.cut(pml.no_of_redeems,bins=[-0.1,0,1,35],duplicates=\"drop\"),x=\"isChurned\",data=pml,orient=\"h\")\n",
        "ax.axvline(x=pml.isChurned.sum()/len(pml),c=\"red\",label=\"population mean\")\n",
        "ax.legend()\n",
        "plt.show()"
      ],
      "execution_count": 70,
      "outputs": [
        {
          "output_type": "display_data",
          "data": {
            "image/png": "[encoded data removed]",
            "text/plain": [
              "<Figure size 432x288 with 1 Axes>"
            ]
          },
          "metadata": {
            "tags": [],
            "needs_background": "light"
          }
        }
      ]
    },
    {
      "cell_type": "markdown",
      "metadata": {
        "id": "NhKckotQsq2R",
        "colab_type": "text"
      },
      "source": [
        "Number of Redeems vs Churn Rate:\n",
        "\n",
        "We have grouped our data based on household's number of redeems. We will use pandas.cut which groups the number of redeems into the bins. Graph below separates 0 redeemers, redeemed once and the final group redeemed more than once:\n",
        "> Churn rate decreases as the number of redeems increase\n",
        "\n",
        "\n",
        "\n",
        "\n",
        "\n"
      ]
    },
    {
      "cell_type": "code",
      "metadata": {
        "id": "-a2zwE3fcXbK",
        "colab_type": "code",
        "outputId": "463e666c-2936-44ed-cf18-bd3af87a6c89",
        "colab": {
          "base_uri": "https://localhost:8080/",
          "height": 278
        }
      },
      "source": [
        "ax = sns.barplot(y=pd.qcut(pml.no_of_received_campaigns,5,duplicates=\"drop\"),x=\"isChurned\",data=pml,orient=\"h\")\n",
        "ax.axvline(x=pml.isChurned.sum()/len(pml),c=\"red\",label=\"population mean\")\n",
        "ax.legend()\n",
        "plt.show()"
      ],
      "execution_count": 71,
      "outputs": [
        {
          "output_type": "display_data",
          "data": {
            "image/png": "[encoded data removed]",
            "text/plain": [
              "<Figure size 432x288 with 1 Axes>"
            ]
          },
          "metadata": {
            "tags": [],
            "needs_background": "light"
          }
        }
      ]
    },
    {
      "cell_type": "markdown",
      "metadata": {
        "id": "pt8SNG36tkWo",
        "colab_type": "text"
      },
      "source": [
        "Churn rate vs Number of campaigns received by a household\n",
        "\n",
        "Churn rate decreases as the number of campaigns received by a household increases"
      ]
    },
    {
      "cell_type": "code",
      "metadata": {
        "id": "jbr9BEKEcXbM",
        "colab_type": "code",
        "outputId": "08717ee2-0660-4a56-ccd1-38a763607f77",
        "colab": {
          "base_uri": "https://localhost:8080/",
          "height": 278
        }
      },
      "source": [
        "ax = sns.barplot(y=\"household_comp\",x=\"isChurned\",data=pml,orient=\"h\",order=['2 Adults No Kids','2 Adults Kids','1 Adult Kids','1 Adult No Kids'])\n",
        "ax.axvline(x=pml.isChurned.sum()/len(pml),c=\"red\",label=\"population mean\")\n",
        "ax.legend()\n",
        "plt.show()"
      ],
      "execution_count": 72,
      "outputs": [
        {
          "output_type": "display_data",
          "data": {
            "image/png": "[encoded data removed]",
            "text/plain": [
              "<Figure size 432x288 with 1 Axes>"
            ]
          },
          "metadata": {
            "tags": [],
            "needs_background": "light"
          }
        }
      ]
    },
    {
      "cell_type": "markdown",
      "metadata": {
        "id": "RkVUxhA6t3J1",
        "colab_type": "text"
      },
      "source": [
        "Not very clear, however churn rate tends to increase when household have 1 adult kid"
      ]
    },
    {
      "cell_type": "code",
      "metadata": {
        "id": "qmEgAU2fcXbP",
        "colab_type": "code",
        "outputId": "3a3f3c52-ac0a-4c52-a229-d519ecea06ca",
        "colab": {
          "base_uri": "https://localhost:8080/",
          "height": 278
        }
      },
      "source": [
        "ax = sns.barplot(y=\"household_size\",x=\"isChurned\",data=pml,orient=\"h\")\n",
        "ax.axvline(x=pml.isChurned.sum()/len(pml),c=\"red\",label=\"population mean\")\n",
        "ax.legend()\n",
        "plt.show()"
      ],
      "execution_count": 73,
      "outputs": [
        {
          "output_type": "display_data",
          "data": {
            "image/png": "[encoded data removed]",
            "text/plain": [
              "<Figure size 432x288 with 1 Axes>"
            ]
          },
          "metadata": {
            "tags": [],
            "needs_background": "light"
          }
        }
      ]
    },
    {
      "cell_type": "markdown",
      "metadata": {
        "id": "AQcMmU7Vubep",
        "colab_type": "text"
      },
      "source": [
        "Churn rate tends to decrease as the number of family members increases but it sharply increase when household has 5 or more members."
      ]
    },
    {
      "cell_type": "code",
      "metadata": {
        "id": "9osuvMWycXbV",
        "colab_type": "code",
        "outputId": "ccda9b38-56f8-4918-e42b-f2bf17b0ce30",
        "colab": {
          "base_uri": "https://localhost:8080/",
          "height": 278
        }
      },
      "source": [
        "ax = sns.barplot(y=\"most_freq_camp_type\",x=\"isChurned\",data=pml,orient=\"h\",order=['Type A','Type B','Type C'])\n",
        "ax.axvline(x=pml.isChurned.sum()/len(pml),c=\"red\",label=\"population mean\")\n",
        "ax.legend()\n",
        "plt.show()"
      ],
      "execution_count": 74,
      "outputs": [
        {
          "output_type": "display_data",
          "data": {
            "image/png": "[encoded data removed]",
            "text/plain": [
              "<Figure size 432x288 with 1 Axes>"
            ]
          },
          "metadata": {
            "tags": [],
            "needs_background": "light"
          }
        }
      ]
    },
    {
      "cell_type": "markdown",
      "metadata": {
        "id": "syv-X0VQvZBk",
        "colab_type": "text"
      },
      "source": [
        "Campaign Type vs Churn rate:\n",
        "\n",
        "TypeC campaign fails as all households which was approached with campaign C are churned. However note that it has extremely lower sample size (1% of all population)\n",
        "TypeB is the most successful one with the lowest churn rate"
      ]
    },
    {
      "cell_type": "code",
      "metadata": {
        "id": "CXkYhWo0cXba",
        "colab_type": "code",
        "outputId": "b100f79f-c6be-4276-8d61-74cef653f156",
        "colab": {
          "base_uri": "https://localhost:8080/",
          "height": 278
        }
      },
      "source": [
        "ax = sns.barplot(y=pd.qcut(pml[\"Total Purchase (USD)\"],5,duplicates=\"drop\"),x=\"isChurned\",data=pml,orient=\"h\")\n",
        "ax.axvline(x=pml.isChurned.sum()/len(pml),c=\"red\",label=\"population mean\")\n",
        "ax.legend()\n",
        "plt.show()"
      ],
      "execution_count": 75,
      "outputs": [
        {
          "output_type": "display_data",
          "data": {
            "image/png": "[encoded data removed]",
            "text/plain": [
              "<Figure size 432x288 with 1 Axes>"
            ]
          },
          "metadata": {
            "tags": [],
            "needs_background": "light"
          }
        }
      ]
    },
    {
      "cell_type": "markdown",
      "metadata": {
        "id": "MgBQ4RBdweHp",
        "colab_type": "text"
      },
      "source": [
        "Total purchase of a household vs Churn rate:\n",
        "\n",
        "Total purchase amount of a customer is a clear separator, expected to perform well as a feature in the churn prediction model\n",
        "Churn rate decreases as total amount of purchase of a household (within 2 years) increases"
      ]
    },
    {
      "cell_type": "code",
      "metadata": {
        "id": "iV8WxdbVcXbe",
        "colab_type": "code",
        "outputId": "7eab1b8d-946a-4aaf-b3fa-dc7f42ba0cc0",
        "colab": {
          "base_uri": "https://localhost:8080/",
          "height": 496
        }
      },
      "source": [
        "corrs = abs(pml[[\"Camp_\"+str(i) if i<26 else \"isChurned\" for i in range(1,27)]].corr()[\"isChurned\"])\n",
        "corrs.drop(\"isChurned\",inplace=True)\n",
        "corrs = pd.DataFrame(list(zip(corrs.index,corrs)),columns=[\"Campaign No.\",\"Correlation with Target\"]).sort_values(by=\"Correlation with Target\",ascending=False)\n",
        "fig_store = plt.figure(figsize=(10,8))\n",
        "sns.barplot(y=\"Campaign No.\",x=\"Correlation with Target\",data = corrs,orient=\"h\")\n",
        "plt.show()"
      ],
      "execution_count": 76,
      "outputs": [
        {
          "output_type": "display_data",
          "data": {
            "image/png": "[encoded data removed]",
            "text/plain": [
              "<Figure size 720x576 with 1 Axes>"
            ]
          },
          "metadata": {
            "tags": [],
            "needs_background": "light"
          }
        }
      ]
    },
    {
      "cell_type": "markdown",
      "metadata": {
        "id": "YB0MtwL8w1jP",
        "colab_type": "text"
      },
      "source": [
        "Correlation between Campaign Number and the Target (isChurned) are calculated and displayed in the barchart below:\n",
        "\n",
        "Campaign 18 as a feature expected to be performing well in the model as it has the highest correlation with the target variable; followed by Campaign 13 and 20."
      ]
    },
    {
      "cell_type": "code",
      "metadata": {
        "id": "MQMNBhXRcXbh",
        "colab_type": "code",
        "outputId": "86dc61c4-1333-490e-a9fb-ccfb851523dc",
        "colab": {
          "base_uri": "https://localhost:8080/",
          "height": 387
        }
      },
      "source": [
        "cols =list(df_store.columns)\n",
        "cols.extend([\"isChurned\"])\n",
        "corrs = abs(pml[cols].corr()[\"isChurned\"])\n",
        "corrs.drop(\"isChurned\",inplace=True)\n",
        "corrs = pd.DataFrame(list(zip(corrs.index,corrs)),columns=[\"Store ID\",\"Correlation with Target\"]).sort_values(by=\"Correlation with Target\",ascending=False)\n",
        "fig_store = plt.figure(figsize=(10,6))\n",
        "sns.barplot(y=\"Store ID\",x=\"Correlation with Target\",data = corrs,orient=\"h\")\n",
        "plt.show()\n"
      ],
      "execution_count": 77,
      "outputs": [
        {
          "output_type": "display_data",
          "data": {
            "image/png": "[encoded data removed]",
            "text/plain": [
              "<Figure size 720x432 with 1 Axes>"
            ]
          },
          "metadata": {
            "tags": [],
            "needs_background": "light"
          }
        }
      ]
    },
    {
      "cell_type": "markdown",
      "metadata": {
        "id": "KYNu0Gy_xUPc",
        "colab_type": "text"
      },
      "source": [
        "Correlation between the stores with high number of churner customers and the Target (isChurned) are calculated and displayed in the barchart above."
      ]
    },
    {
      "cell_type": "markdown",
      "metadata": {
        "id": "2R4ba7SQcXb5",
        "colab_type": "text"
      },
      "source": [
        "# LOGISTIC REGRESSION\n",
        "\n",
        "In this section we will train a Machine Learning model with the training data. The machine learning model is Logistic Regression"
      ]
    },
    {
      "cell_type": "code",
      "metadata": {
        "id": "c_2CT4hfcXb9",
        "colab_type": "code",
        "colab": {}
      },
      "source": [
        "from sklearn.model_selection import train_test_split\n",
        "\n",
        "#one hot encoding categorical data for modelling\n",
        "encoded = pd.get_dummies(pml[pml.columns[pml.dtypes==object]])\n",
        "data_encoded = pd.concat([encoded, pml[pml.columns[pml.dtypes != object]]],axis=1)\n",
        "\n",
        "#Features (X) and the target (y)\n",
        "X1 = data_encoded.drop(\"isChurned\",axis=1)\n",
        "y1 = data_encoded.isChurned\n",
        "\n",
        "#lets start with the default hyperparameters and hold-out mechanism for train/test split\n",
        "X_train,X_test,y_train,y_test = train_test_split(X1,y1,test_size=0.25)"
      ],
      "execution_count": 0,
      "outputs": []
    },
    {
      "cell_type": "code",
      "metadata": {
        "id": "baWpT0ka9iHh",
        "colab_type": "code",
        "outputId": "312c9e20-a4b0-4583-f531-a93b9b353c86",
        "colab": {
          "base_uri": "https://localhost:8080/",
          "height": 34
        }
      },
      "source": [
        "from sklearn.linear_model import LogisticRegression\n",
        "mdlg = LogisticRegression() #default solver 'lbfgs', L2 penalty, C=1\n",
        "mdlg.fit(X_train, y_train)\n",
        "mdlg.score(X_test, y_test)"
      ],
      "execution_count": 79,
      "outputs": [
        {
          "output_type": "execute_result",
          "data": {
            "text/plain": [
              "0.8855721393034826"
            ]
          },
          "metadata": {
            "tags": []
          },
          "execution_count": 79
        }
      ]
    },
    {
      "cell_type": "code",
      "metadata": {
        "id": "I7vV3Rzh96PR",
        "colab_type": "code",
        "outputId": "d7427263-9e77-47c2-af85-973dadabda1b",
        "colab": {
          "base_uri": "https://localhost:8080/",
          "height": 347
        }
      },
      "source": [
        "y_predicted = mdlg.predict(X_test)\n",
        "from sklearn.metrics import confusion_matrix\n",
        "\n",
        "cmm = confusion_matrix(y_test, y_predicted)\n",
        "plt.figure()\n",
        "sns.heatmap(cmm, annot = True, fmt=\"d\",\n",
        "            cmap=sns.color_palette(\"GnBu\")).set(xlabel='predicted values', \n",
        "                                                ylabel='real values', \n",
        "                                                title = 'Confusion Matrix')"
      ],
      "execution_count": 80,
      "outputs": [
        {
          "output_type": "execute_result",
          "data": {
            "text/plain": [
              "[Text(33.0, 0.5, 'real values'),\n",
              " Text(0.5, 15.0, 'predicted values'),\n",
              " Text(0.5, 1.0, 'Confusion Matrix')]"
            ]
          },
          "metadata": {
            "tags": []
          },
          "execution_count": 80
        },
        {
          "output_type": "display_data",
          "data": {
            "image/png": "[encoded data removed]",
            "text/plain": [
              "<Figure size 432x288 with 2 Axes>"
            ]
          },
          "metadata": {
            "tags": [],
            "needs_background": "light"
          }
        }
      ]
    },
    {
      "cell_type": "markdown",
      "metadata": {
        "id": "K3XBSVhVxcDW",
        "colab_type": "text"
      },
      "source": [
        "#ML Model Training & Testing\n",
        "In this section we will train a Machine Learning model with the training data. The machine learning model is chosen as XGBoost (Extreme Gradient Boosting) as they are known to be performing well with imbalanced datasets."
      ]
    },
    {
      "cell_type": "markdown",
      "metadata": {
        "id": "Nh7SdXCZ-JvG",
        "colab_type": "text"
      },
      "source": [
        "Even though getting lower accuracy in total, now we are getting much better results for the minority class as recall and ROC AUC (receiver operating characteristics, area under curve) increased significantly.\n",
        "\n",
        "The score table above gives all metric results for both test and train sets. Train and test results are close which is an indication that our model did not overfit."
      ]
    },
    {
      "cell_type": "code",
      "metadata": {
        "id": "Wfvvto5zcXbj",
        "colab_type": "code",
        "outputId": "7f0483be-9099-4bf4-fcbb-01f71d2a9680",
        "colab": {
          "base_uri": "https://localhost:8080/",
          "height": 70
        }
      },
      "source": [
        "pip install xgboost"
      ],
      "execution_count": 81,
      "outputs": [
        {
          "output_type": "stream",
          "text": [
            "Requirement already satisfied: xgboost in /usr/local/lib/python3.6/dist-packages (0.90)\n",
            "Requirement already satisfied: numpy in /usr/local/lib/python3.6/dist-packages (from xgboost) (1.18.4)\n",
            "Requirement already satisfied: scipy in /usr/local/lib/python3.6/dist-packages (from xgboost) (1.4.1)\n"
          ],
          "name": "stdout"
        }
      ]
    },
    {
      "cell_type": "code",
      "metadata": {
        "id": "4Dq5woKdcXbl",
        "colab_type": "code",
        "colab": {}
      },
      "source": [
        "from sklearn.ensemble import RandomForestClassifier\n",
        "from xgboost import XGBClassifier"
      ],
      "execution_count": 0,
      "outputs": []
    },
    {
      "cell_type": "markdown",
      "metadata": {
        "id": "DhKuQAvayMAl",
        "colab_type": "text"
      },
      "source": [
        "We will transform our categorical variables using one-hot encoding algorithm (get_dummies) to be able to use in our classifier. \n",
        "\n",
        "After we will separat the data into train and test 75%/25%. Then generated an XGBoost classifier with it's default parameters and trained it with the training set.\n",
        "\n",
        "Now let's test our trained classifier with test data:"
      ]
    },
    {
      "cell_type": "code",
      "metadata": {
        "id": "xyCWNhNCcXbs",
        "colab_type": "code",
        "outputId": "efd14f5c-7fec-4047-f093-d5a031eba562",
        "colab": {
          "base_uri": "https://localhost:8080/",
          "height": 141
        }
      },
      "source": [
        "#one hot encoding categorical data for modelling\n",
        "encoded = pd.get_dummies(pml[pml.columns[pml.dtypes==object]])\n",
        "data_encoded = pd.concat([encoded, pml[pml.columns[pml.dtypes != object]]],axis=1)\n",
        "\n",
        "#Features (X) and the target (y)\n",
        "X = data_encoded.drop(\"isChurned\",axis=1)\n",
        "y = data_encoded.isChurned\n",
        "\n",
        "#lets start with the default hyperparameters and hold-out mechanism for train/test split\n",
        "X_train,X_test,y_train,y_test = train_test_split(X,y,test_size=0.25)\n",
        "\n",
        "#XGBoost\n",
        "xgb_mdl = XGBClassifier().fit(X_train.values,y_train.values)\n",
        "xgb_mdl"
      ],
      "execution_count": 83,
      "outputs": [
        {
          "output_type": "execute_result",
          "data": {
            "text/plain": [
              "XGBClassifier(base_score=0.5, booster='gbtree', colsample_bylevel=1,\n",
              "              colsample_bynode=1, colsample_bytree=1, gamma=0,\n",
              "              learning_rate=0.1, max_delta_step=0, max_depth=3,\n",
              "              min_child_weight=1, missing=None, n_estimators=100, n_jobs=1,\n",
              "              nthread=None, objective='binary:logistic', random_state=0,\n",
              "              reg_alpha=0, reg_lambda=1, scale_pos_weight=1, seed=None,\n",
              "              silent=None, subsample=1, verbosity=1)"
            ]
          },
          "metadata": {
            "tags": []
          },
          "execution_count": 83
        }
      ]
    },
    {
      "cell_type": "code",
      "metadata": {
        "id": "WjbrG2eHcXbu",
        "colab_type": "code",
        "outputId": "071f715b-dec4-4978-b9ef-38286e97a0d2",
        "colab": {
          "base_uri": "https://localhost:8080/",
          "height": 738
        }
      },
      "source": [
        "from sklearn.metrics import classification_report, roc_auc_score, confusion_matrix, average_precision_score\n",
        "\n",
        "#XGBoost\n",
        "y_pred_train = xgb_mdl.predict(X_train.values)\n",
        "y_pred = xgb_mdl.predict(X_test.values)\n",
        "\n",
        "print(\"Train Data Classification Report:\\n\")\n",
        "print(classification_report(y_train,y_pred_train))\n",
        "\n",
        "print(\"Test Data Classification Report:\\n\")\n",
        "print(classification_report(y_test,y_pred))\n",
        "\n",
        "#generate a confusion matrix to visualise precision, recall, misclassification and false alarms\n",
        "cm = pd.DataFrame(confusion_matrix(y_test, y_pred), index = list(set(y)), columns = list(set(y)))\n",
        "\n",
        "#visualise the confusion matrix in the heatmap form\n",
        "plt.figure()\n",
        "sns.heatmap(cm, annot = True, fmt=\"d\",\n",
        "            cmap=sns.color_palette(\"GnBu\")).set(xlabel='predicted values', \n",
        "                                                ylabel='real values', \n",
        "                                                title = 'Confusion Matrix')"
      ],
      "execution_count": 84,
      "outputs": [
        {
          "output_type": "stream",
          "text": [
            "Train Data Classification Report:\n",
            "\n",
            "              precision    recall  f1-score   support\n",
            "\n",
            "       False       0.93      1.00      0.96       544\n",
            "        True       1.00      0.21      0.35        56\n",
            "\n",
            "    accuracy                           0.93       600\n",
            "   macro avg       0.96      0.61      0.66       600\n",
            "weighted avg       0.93      0.93      0.90       600\n",
            "\n",
            "Test Data Classification Report:\n",
            "\n",
            "              precision    recall  f1-score   support\n",
            "\n",
            "       False       0.89      1.00      0.94       179\n",
            "        True       0.00      0.00      0.00        22\n",
            "\n",
            "    accuracy                           0.89       201\n",
            "   macro avg       0.45      0.50      0.47       201\n",
            "weighted avg       0.79      0.89      0.84       201\n",
            "\n"
          ],
          "name": "stdout"
        },
        {
          "output_type": "execute_result",
          "data": {
            "text/plain": [
              "[Text(33.0, 0.5, 'real values'),\n",
              " Text(0.5, 15.0, 'predicted values'),\n",
              " Text(0.5, 1.0, 'Confusion Matrix')]"
            ]
          },
          "metadata": {
            "tags": []
          },
          "execution_count": 84
        },
        {
          "output_type": "display_data",
          "data": {
            "image/png": "[encoded data removed]",
            "text/plain": [
              "<Figure size 432x288 with 2 Axes>"
            ]
          },
          "metadata": {
            "tags": [],
            "needs_background": "light"
          }
        }
      ]
    },
    {
      "cell_type": "code",
      "metadata": {
        "id": "1aRdsquicXbz",
        "colab_type": "code",
        "outputId": "760c0776-a2cd-4862-f44f-554dd1ddb2a5",
        "colab": {
          "base_uri": "https://localhost:8080/",
          "height": 34
        }
      },
      "source": [
        "roc_auc_score(y_test,y_pred)\n",
        "# average_precision_score(y_test,y_pred)"
      ],
      "execution_count": 85,
      "outputs": [
        {
          "output_type": "execute_result",
          "data": {
            "text/plain": [
              "0.5"
            ]
          },
          "metadata": {
            "tags": []
          },
          "execution_count": 85
        }
      ]
    },
    {
      "cell_type": "markdown",
      "metadata": {
        "id": "hYdj5RU5z-Ru",
        "colab_type": "text"
      },
      "source": [
        "Even though accuracy for the model is 89% it maybe misleading as our target variable is skewed towards not churned (90% are not churned). Even a very basic model which selects majority class all times would score 90% accuracy.\n",
        "\n",
        "Therefore we will have to focus on how well our model performs on the minority class (churned households). On the test set we have 201 samples only 15 of them being churned. Our model could not manage to detect any of them, therefore test set recall has come out as 0%. This is the part we need to aim to increase.\n",
        "\n",
        "We will lets try to enhance our model by optimising hyperparameters by using \"Randomised Search\" with \"Cross-Validation\".\n",
        "\n",
        "We need to determine the evaluation criteria (scorer) to be optimised for the Randomised Search. Lets see the available scorers.\n",
        "\n",
        "average precision, balanced accuracy, roc_auc, f1 are the scorers which are commonly used for imbalanced dataset classifications as they handle situation well as compared to other metrics\n"
      ]
    },
    {
      "cell_type": "code",
      "metadata": {
        "id": "1H2tHltf0BXY",
        "colab_type": "code",
        "outputId": "3fdaf9c0-d432-4a68-c1fb-b667045402df",
        "colab": {
          "base_uri": "https://localhost:8080/",
          "height": 870
        }
      },
      "source": [
        "import sklearn\n",
        "sorted(sklearn.metrics.SCORERS.keys())"
      ],
      "execution_count": 86,
      "outputs": [
        {
          "output_type": "execute_result",
          "data": {
            "text/plain": [
              "['accuracy',\n",
              " 'adjusted_mutual_info_score',\n",
              " 'adjusted_rand_score',\n",
              " 'average_precision',\n",
              " 'balanced_accuracy',\n",
              " 'completeness_score',\n",
              " 'explained_variance',\n",
              " 'f1',\n",
              " 'f1_macro',\n",
              " 'f1_micro',\n",
              " 'f1_samples',\n",
              " 'f1_weighted',\n",
              " 'fowlkes_mallows_score',\n",
              " 'homogeneity_score',\n",
              " 'jaccard',\n",
              " 'jaccard_macro',\n",
              " 'jaccard_micro',\n",
              " 'jaccard_samples',\n",
              " 'jaccard_weighted',\n",
              " 'max_error',\n",
              " 'mutual_info_score',\n",
              " 'neg_brier_score',\n",
              " 'neg_log_loss',\n",
              " 'neg_mean_absolute_error',\n",
              " 'neg_mean_gamma_deviance',\n",
              " 'neg_mean_poisson_deviance',\n",
              " 'neg_mean_squared_error',\n",
              " 'neg_mean_squared_log_error',\n",
              " 'neg_median_absolute_error',\n",
              " 'neg_root_mean_squared_error',\n",
              " 'normalized_mutual_info_score',\n",
              " 'precision',\n",
              " 'precision_macro',\n",
              " 'precision_micro',\n",
              " 'precision_samples',\n",
              " 'precision_weighted',\n",
              " 'r2',\n",
              " 'recall',\n",
              " 'recall_macro',\n",
              " 'recall_micro',\n",
              " 'recall_samples',\n",
              " 'recall_weighted',\n",
              " 'roc_auc',\n",
              " 'roc_auc_ovo',\n",
              " 'roc_auc_ovo_weighted',\n",
              " 'roc_auc_ovr',\n",
              " 'roc_auc_ovr_weighted',\n",
              " 'v_measure_score']"
            ]
          },
          "metadata": {
            "tags": []
          },
          "execution_count": 86
        }
      ]
    },
    {
      "cell_type": "code",
      "metadata": {
        "id": "CJ4zxYge0TcE",
        "colab_type": "code",
        "outputId": "a20638cf-3db7-4e01-e549-0d39115783f1",
        "colab": {
          "base_uri": "https://localhost:8080/",
          "height": 105
        }
      },
      "source": [
        "from sklearn.model_selection import GridSearchCV, RepeatedStratifiedKFold, RandomizedSearchCV\n",
        "\n",
        "#handle class imbalance problem by undersampling (not used)\n",
        "# no_churn_down_sampled = data_encoded[data_encoded.isChurned == False].sample(sum(data_encoded.isChurned))\n",
        "# data_encoded_balanced = pd.concat([no_churn_down_sampled,data_encoded[data_encoded.isChurned]])\n",
        "#shuffle the dataset to avoiding sampling biases\n",
        "# data = data_encoded_balanced.sample(frac=1)\n",
        "\n",
        "#shuffle the dataset to avoiding sampling biases\n",
        "data = data_encoded.sample(frac=1)\n",
        "X = data.drop(\"isChurned\",axis=1)\n",
        "y = data.isChurned\n",
        "\n",
        "#generate an XGB classifier\n",
        "mdl = XGBClassifier()\n",
        "\n",
        "#parameter ranges\n",
        "param_list = {\n",
        "    'silent': [False],\n",
        "    'max_depth': range(2,51),\n",
        "    'learning_rate': [0.001, 0.01, 0.1, 0.15],\n",
        "    'subsample': np.arange(0,1.1,.1),\n",
        "    'colsample_bytree': np.arange(0,1.1,.1),\n",
        "    'colsample_bylevel': np.arange(0,1.1,.1),\n",
        "    'min_child_weight': [0.5, 0.7, 1.0, 2.0, 3.0],\n",
        "    'gamma': [0, 0.25, 0.5, 0.75, 0.9, 1.0],\n",
        "    'reg_lambda': [0.1, 1.0, 5.0, 10.0, 50.0, 100.0, 500.0, 1000.0],\n",
        "    'n_estimators': [2, 5, 10, 20, 50, 100],\n",
        "    'scale_pos_weight': [1, 1.5, 2, 6, 6.1, 6.3, 6.5, 8],\n",
        "    'max_delta_step': [1, 2, 3, 5, 10]\n",
        "}\n",
        "\n",
        "kfold = 5\n",
        "cv_strat = RepeatedStratifiedKFold(n_splits=kfold,n_repeats=10)\n",
        "\n",
        "#Randomized Search\n",
        "# cv = RandomizedSearchCV(mdl,param_list,cv=cv_strat,n_iter=100,verbose=1,scoring=\"roc_auc\",n_jobs=-1).fit(X.values,y.values)\n",
        "cv = RandomizedSearchCV(mdl,param_list,cv=cv_strat,n_iter=100,verbose=1,scoring=\"balanced_accuracy\",n_jobs=-1).fit(X.values,y.values)\n",
        "# cv = RandomizedSearchCV(mdl,param_list,cv=cv_strat,n_iter=100,verbose=1,scoring=\"average_precision\",n_jobs=-1).fit(X.values,y.values)\n",
        "\n",
        "#use the best estimator after the hyperparameter optimisation\n",
        "mdl_best = cv.best_estimator_"
      ],
      "execution_count": 87,
      "outputs": [
        {
          "output_type": "stream",
          "text": [
            "Fitting 50 folds for each of 100 candidates, totalling 5000 fits\n"
          ],
          "name": "stdout"
        },
        {
          "output_type": "stream",
          "text": [
            "[Parallel(n_jobs=-1)]: Using backend LokyBackend with 2 concurrent workers.\n",
            "[Parallel(n_jobs=-1)]: Done  74 tasks      | elapsed:    3.4s\n",
            "[Parallel(n_jobs=-1)]: Done 2754 tasks      | elapsed:  1.3min\n",
            "[Parallel(n_jobs=-1)]: Done 5000 out of 5000 | elapsed:  2.3min finished\n"
          ],
          "name": "stderr"
        }
      ]
    },
    {
      "cell_type": "code",
      "metadata": {
        "id": "SfZ-k8l08NTg",
        "colab_type": "code",
        "outputId": "6fd6c95e-5563-47a9-e1bc-48f4a623c721",
        "colab": {
          "base_uri": "https://localhost:8080/",
          "height": 230
        }
      },
      "source": [
        "cv.best_params_"
      ],
      "execution_count": 88,
      "outputs": [
        {
          "output_type": "execute_result",
          "data": {
            "text/plain": [
              "{'colsample_bylevel': 0.6000000000000001,\n",
              " 'colsample_bytree': 0.5,\n",
              " 'gamma': 1.0,\n",
              " 'learning_rate': 0.15,\n",
              " 'max_delta_step': 2,\n",
              " 'max_depth': 8,\n",
              " 'min_child_weight': 0.5,\n",
              " 'n_estimators': 100,\n",
              " 'reg_lambda': 1000.0,\n",
              " 'scale_pos_weight': 8,\n",
              " 'silent': False,\n",
              " 'subsample': 0.7000000000000001}"
            ]
          },
          "metadata": {
            "tags": []
          },
          "execution_count": 88
        }
      ]
    },
    {
      "cell_type": "markdown",
      "metadata": {
        "id": "Svcgrnxc9Fs0",
        "colab_type": "text"
      },
      "source": [
        "Hyperparameter optimisation is completed. Now lets train and test the XGBoost Classifier with the optimised hyperparameters.\n",
        "\n",
        "'scale_pos_weight' is the parameter used for biasing (weighing more) of the minority class samples. The higher the value the more bias towards minority class. In our dataset, the ratio between majority class samples and the minority class is 8 which coheres with this parameter (optimised value came out as 8).\n",
        "\n",
        "Lets test our optimised model with the data"
      ]
    },
    {
      "cell_type": "code",
      "metadata": {
        "id": "OEH09WLC9-E4",
        "colab_type": "code",
        "outputId": "de2dfb2f-c612-4c0f-eba7-dae5bd4ecd54",
        "colab": {
          "base_uri": "https://localhost:8080/",
          "height": 461
        }
      },
      "source": [
        "from sklearn.model_selection import cross_val_predict, cross_val_score, cross_validate\n",
        "\n",
        "cv_strat = RepeatedStratifiedKFold(n_splits=kfold,n_repeats=20)\n",
        "scores = cross_validate(mdl_best,X.values,y.values,cv=cv_strat,verbose=3,n_jobs=-1,return_train_score=True,\n",
        "                        scoring={\"roc_auc\":\"roc_auc\",\n",
        "                                 \"recall\":\"recall\",\n",
        "                                 \"precision\":\"precision\",\n",
        "                                 \"accuracy\":\"accuracy\",\n",
        "                                 \"balanced_accuracy\":\"balanced_accuracy\",\n",
        "                                 \"average_precision\":\"average_precision\"}) \n",
        "\n",
        "pd.DataFrame(pd.DataFrame(scores).mean(),columns=[\"Score\"]).drop([\"fit_time\",\"score_time\"])"
      ],
      "execution_count": 89,
      "outputs": [
        {
          "output_type": "stream",
          "text": [
            "[Parallel(n_jobs=-1)]: Using backend LokyBackend with 2 concurrent workers.\n",
            "[Parallel(n_jobs=-1)]: Done  28 tasks      | elapsed:    4.5s\n",
            "[Parallel(n_jobs=-1)]: Done 100 out of 100 | elapsed:   15.9s finished\n"
          ],
          "name": "stderr"
        },
        {
          "output_type": "execute_result",
          "data": {
            "text/html": [
              "<div>\n",
              "<style scoped>\n",
              "    .dataframe tbody tr th:only-of-type {\n",
              "        vertical-align: middle;\n",
              "    }\n",
              "\n",
              "    .dataframe tbody tr th {\n",
              "        vertical-align: top;\n",
              "    }\n",
              "\n",
              "    .dataframe thead th {\n",
              "        text-align: right;\n",
              "    }\n",
              "</style>\n",
              "<table border=\"1\" class=\"dataframe\">\n",
              "  <thead>\n",
              "    <tr style=\"text-align: right;\">\n",
              "      <th></th>\n",
              "      <th>Score</th>\n",
              "    </tr>\n",
              "  </thead>\n",
              "  <tbody>\n",
              "    <tr>\n",
              "      <th>test_roc_auc</th>\n",
              "      <td>0.646960</td>\n",
              "    </tr>\n",
              "    <tr>\n",
              "      <th>train_roc_auc</th>\n",
              "      <td>0.759341</td>\n",
              "    </tr>\n",
              "    <tr>\n",
              "      <th>test_recall</th>\n",
              "      <td>0.427208</td>\n",
              "    </tr>\n",
              "    <tr>\n",
              "      <th>train_recall</th>\n",
              "      <td>0.578853</td>\n",
              "    </tr>\n",
              "    <tr>\n",
              "      <th>test_precision</th>\n",
              "      <td>0.155564</td>\n",
              "    </tr>\n",
              "    <tr>\n",
              "      <th>train_precision</th>\n",
              "      <td>0.207203</td>\n",
              "    </tr>\n",
              "    <tr>\n",
              "      <th>test_accuracy</th>\n",
              "      <td>0.715651</td>\n",
              "    </tr>\n",
              "    <tr>\n",
              "      <th>train_accuracy</th>\n",
              "      <td>0.742200</td>\n",
              "    </tr>\n",
              "    <tr>\n",
              "      <th>test_balanced_accuracy</th>\n",
              "      <td>0.586983</td>\n",
              "    </tr>\n",
              "    <tr>\n",
              "      <th>train_balanced_accuracy</th>\n",
              "      <td>0.669326</td>\n",
              "    </tr>\n",
              "    <tr>\n",
              "      <th>test_average_precision</th>\n",
              "      <td>0.198396</td>\n",
              "    </tr>\n",
              "    <tr>\n",
              "      <th>train_average_precision</th>\n",
              "      <td>0.276446</td>\n",
              "    </tr>\n",
              "  </tbody>\n",
              "</table>\n",
              "</div>"
            ],
            "text/plain": [
              "                            Score\n",
              "test_roc_auc             0.646960\n",
              "train_roc_auc            0.759341\n",
              "test_recall              0.427208\n",
              "train_recall             0.578853\n",
              "test_precision           0.155564\n",
              "train_precision          0.207203\n",
              "test_accuracy            0.715651\n",
              "train_accuracy           0.742200\n",
              "test_balanced_accuracy   0.586983\n",
              "train_balanced_accuracy  0.669326\n",
              "test_average_precision   0.198396\n",
              "train_average_precision  0.276446"
            ]
          },
          "metadata": {
            "tags": []
          },
          "execution_count": 89
        }
      ]
    },
    {
      "cell_type": "markdown",
      "metadata": {
        "id": "-289EmpY0ksp",
        "colab_type": "text"
      },
      "source": [
        "Now we are getting much better results for the minority class as recall and ROC AUC (receiver operating characteristics, area under curve) increased significantly for test.\n",
        "\n",
        "The score table above gives all metric results for both test and train sets. Train and test results are closer which is an indication that our model did not overfit."
      ]
    },
    {
      "cell_type": "code",
      "metadata": {
        "id": "Y2QoGLTzcXb2",
        "colab_type": "code",
        "outputId": "660f1b53-d311-4336-b11f-1314521e0747",
        "colab": {
          "base_uri": "https://localhost:8080/",
          "height": 301
        }
      },
      "source": [
        "#Checking the Feature Importance\n",
        "print(mdl_best.feature_importances_)"
      ],
      "execution_count": 90,
      "outputs": [
        {
          "output_type": "stream",
          "text": [
            "[0.01538121 0.         0.01626581 0.         0.01467329 0.\n",
            " 0.0080082  0.0169108  0.01569867 0.01661135 0.         0.00893378\n",
            " 0.01167373 0.         0.01868537 0.         0.01761543 0.\n",
            " 0.         0.         0.         0.         0.02363074 0.\n",
            " 0.02109449 0.01931359 0.         0.         0.         0.\n",
            " 0.01502249 0.01897923 0.0187933  0.01531688 0.         0.\n",
            " 0.         0.01367446 0.01789531 0.0174748  0.00515703 0.03248445\n",
            " 0.         0.         0.01635453 0.02808439 0.04183419 0.\n",
            " 0.         0.         0.02173708 0.03467004 0.         0.02298302\n",
            " 0.02758059 0.         0.01573651 0.         0.         0.\n",
            " 0.01901855 0.03361426 0.0310649  0.02483197 0.02483043 0.\n",
            " 0.         0.01942603 0.01851228 0.02028657 0.01594603 0.\n",
            " 0.         0.01340692 0.         0.00785267 0.00688194 0.01606048\n",
            " 0.0191298  0.00604782 0.         0.         0.02082999 0.01496003\n",
            " 0.         0.         0.         0.01450399 0.         0.\n",
            " 0.01871129 0.         0.01381737 0.05199183]\n"
          ],
          "name": "stdout"
        }
      ]
    },
    {
      "cell_type": "code",
      "metadata": {
        "id": "eVlQlBuw_Cdy",
        "colab_type": "code",
        "outputId": "6eb929fc-0567-4ae9-c9c7-d11764cefcb8",
        "colab": {
          "base_uri": "https://localhost:8080/",
          "height": 1000
        }
      },
      "source": [
        "#Feature Importance Plot\n",
        "feat_imp = pd.DataFrame(list(zip(pml.columns,mdl_best.feature_importances_)),columns=[\"Feature\",\"Importance\"]).sort_values(by=\"Importance\",ascending=False)\n",
        "fig_store = plt.figure(figsize=(10,20))\n",
        "sns.barplot(y=\"Feature\",x=\"Importance\",data = feat_imp,orient=\"h\")"
      ],
      "execution_count": 91,
      "outputs": [
        {
          "output_type": "execute_result",
          "data": {
            "text/plain": [
              "<matplotlib.axes._subplots.AxesSubplot at 0x7f9dfc7c26d8>"
            ]
          },
          "metadata": {
            "tags": []
          },
          "execution_count": 91
        },
        {
          "output_type": "display_data",
          "data": {
            "image/png": "[encoded data removed]",
            "text/plain": [
              "<Figure size 720x1440 with 1 Axes>"
            ]
          },
          "metadata": {
            "tags": [],
            "needs_background": "light"
          }
        }
      ]
    },
    {
      "cell_type": "markdown",
      "metadata": {
        "id": "W88xWN0L2NpS",
        "colab_type": "text"
      },
      "source": [
        "The barchart above post the list the features ordered by their importance values for the XGB Classifier.\n",
        "\n",
        "As shown in the feature importance, store 393, 330 and plays the highest importance for our model. They are the most important features for the classifier."
      ]
    },
    {
      "cell_type": "markdown",
      "metadata": {
        "id": "7wDou5JS0Ahd",
        "colab_type": "text"
      },
      "source": [
        "# COMPILED BY\n",
        "## Soman Sajid\n",
        "## Joseph Wilson \n",
        "## Emmanuel Opoku-Asante\n",
        "## Uwais Ghulam Al-Karni"
      ]
    }
  ]
}